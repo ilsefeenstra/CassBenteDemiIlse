{
 "cells": [
  {
   "cell_type": "code",
   "execution_count": null,
   "id": "vRjBTUzjlmKA",
   "metadata": {
    "id": "vRjBTUzjlmKA"
   },
   "outputs": [],
   "source": [
    "import pandas as pd\n",
    "from os import chdir, listdir\n",
    "import zipfile\n",
    "import os\n",
    "import cv2\n",
    "\n",
    "import matplotlib.pyplot as plt\n",
    "import numpy as np\n",
    "import random\n",
    "\n",
    "import tensorflow as tf\n",
    "from tensorflow.keras import layers, models, preprocessing\n",
    "from tensorflow.keras.metrics import RootMeanSquaredError\n",
    "from tensorflow.keras.losses import MeanSquaredError"
   ]
  },
  {
   "cell_type": "markdown",
   "id": "LFZWcvRBvYv_",
   "metadata": {
    "id": "LFZWcvRBvYv_"
   },
   "source": [
    "# Import zip with the data\n",
    "The data is imported as a zip from the github of our project group. The zip is unpacked in the google colab, so the data is accesible. "
   ]
  },
  {
   "cell_type": "code",
   "execution_count": null,
   "id": "fANqjfPxoHI7",
   "metadata": {
    "colab": {
     "base_uri": "https://localhost:8080/"
    },
    "id": "fANqjfPxoHI7",
    "outputId": "376cfd18-e5bf-4027-9bf3-016599366d75"
   },
   "outputs": [
    {
     "name": "stdout",
     "output_type": "stream",
     "text": [
      "--2022-01-18 08:45:46--  https://github.com/ilsefeenstra/Fitgirls0011/archive/refs/heads/main.zip\n",
      "Resolving github.com (github.com)... 140.82.113.4\n",
      "Connecting to github.com (github.com)|140.82.113.4|:443... connected.\n",
      "HTTP request sent, awaiting response... 302 Found\n",
      "Location: https://codeload.github.com/ilsefeenstra/Fitgirls0011/zip/refs/heads/main [following]\n",
      "--2022-01-18 08:45:46--  https://codeload.github.com/ilsefeenstra/Fitgirls0011/zip/refs/heads/main\n",
      "Resolving codeload.github.com (codeload.github.com)... 140.82.114.10\n",
      "Connecting to codeload.github.com (codeload.github.com)|140.82.114.10|:443... connected.\n",
      "HTTP request sent, awaiting response... 200 OK\n",
      "Length: unspecified [application/zip]\n",
      "Saving to: ‘/tmp/pawpularity_data.zip’\n",
      "\n",
      "/tmp/pawpularity_da     [             <=>    ] 985.17M  22.5MB/s    in 45s     \n",
      "\n",
      "2022-01-18 08:46:32 (21.7 MB/s) - ‘/tmp/pawpularity_data.zip’ saved [1033021297]\n",
      "\n"
     ]
    }
   ],
   "source": [
    "# Code from: https://towardsdatascience.com/an-informative-colab-guide-to-load-image-datasets-from-github-kaggle-and-local-machine-75cae89ffa1e\n",
    "\n",
    "# Get zip file from Github URL\n",
    "!wget --no-check-certificate \\\n",
    "    \"https://github.com/ilsefeenstra/Fitgirls0011/archive/refs/heads/main.zip\" \\\n",
    "    -O \"/tmp/pawpularity_data.zip\"\n",
    "\n",
    "# Opens the zip file in read mode and extract files into /tmp folder\n",
    "zip_ref = zipfile.ZipFile('/tmp/pawpularity_data.zip', 'r')\n",
    "zip_ref.extractall('/tmp')\n",
    "zip_ref.close()"
   ]
  },
  {
   "cell_type": "markdown",
   "id": "0ae29a8e",
   "metadata": {
    "id": "0ae29a8e"
   },
   "source": [
    "# Import tabular data\n",
    "\n",
    "The tabular data is imported. This contains information on whether several elements are present in the image, such as blur, a human, a group, etc. Also the pawpularity score of the training data is in the table. For the test data only the image ID and the features are in the table. There is also a sample submission table, which contains the pawpularity score for the test data."
   ]
  },
  {
   "cell_type": "code",
   "execution_count": null,
   "id": "8ae10a3a",
   "metadata": {
    "colab": {
     "base_uri": "https://localhost:8080/",
     "height": 467
    },
    "id": "8ae10a3a",
    "outputId": "e81e9719-f630-47b0-daf1-be6f90e9c8af"
   },
   "outputs": [
    {
     "data": {
      "text/html": [
       "\n",
       "  <div id=\"df-eeb97c01-907d-4227-ac36-50ac76bcd154\">\n",
       "    <div class=\"colab-df-container\">\n",
       "      <div>\n",
       "<style scoped>\n",
       "    .dataframe tbody tr th:only-of-type {\n",
       "        vertical-align: middle;\n",
       "    }\n",
       "\n",
       "    .dataframe tbody tr th {\n",
       "        vertical-align: top;\n",
       "    }\n",
       "\n",
       "    .dataframe thead th {\n",
       "        text-align: right;\n",
       "    }\n",
       "</style>\n",
       "<table border=\"1\" class=\"dataframe\">\n",
       "  <thead>\n",
       "    <tr style=\"text-align: right;\">\n",
       "      <th></th>\n",
       "      <th>Id</th>\n",
       "      <th>Subject Focus</th>\n",
       "      <th>Eyes</th>\n",
       "      <th>Face</th>\n",
       "      <th>Near</th>\n",
       "      <th>Action</th>\n",
       "      <th>Accessory</th>\n",
       "      <th>Group</th>\n",
       "      <th>Collage</th>\n",
       "      <th>Human</th>\n",
       "      <th>Occlusion</th>\n",
       "      <th>Info</th>\n",
       "      <th>Blur</th>\n",
       "      <th>Pawpularity</th>\n",
       "    </tr>\n",
       "  </thead>\n",
       "  <tbody>\n",
       "    <tr>\n",
       "      <th>0</th>\n",
       "      <td>0007de18844b0dbbb5e1f607da0606e0</td>\n",
       "      <td>0</td>\n",
       "      <td>1</td>\n",
       "      <td>1</td>\n",
       "      <td>1</td>\n",
       "      <td>0</td>\n",
       "      <td>0</td>\n",
       "      <td>1</td>\n",
       "      <td>0</td>\n",
       "      <td>0</td>\n",
       "      <td>0</td>\n",
       "      <td>0</td>\n",
       "      <td>0</td>\n",
       "      <td>63</td>\n",
       "    </tr>\n",
       "    <tr>\n",
       "      <th>1</th>\n",
       "      <td>0009c66b9439883ba2750fb825e1d7db</td>\n",
       "      <td>0</td>\n",
       "      <td>1</td>\n",
       "      <td>1</td>\n",
       "      <td>0</td>\n",
       "      <td>0</td>\n",
       "      <td>0</td>\n",
       "      <td>0</td>\n",
       "      <td>0</td>\n",
       "      <td>0</td>\n",
       "      <td>0</td>\n",
       "      <td>0</td>\n",
       "      <td>0</td>\n",
       "      <td>42</td>\n",
       "    </tr>\n",
       "    <tr>\n",
       "      <th>2</th>\n",
       "      <td>0013fd999caf9a3efe1352ca1b0d937e</td>\n",
       "      <td>0</td>\n",
       "      <td>1</td>\n",
       "      <td>1</td>\n",
       "      <td>1</td>\n",
       "      <td>0</td>\n",
       "      <td>0</td>\n",
       "      <td>0</td>\n",
       "      <td>0</td>\n",
       "      <td>1</td>\n",
       "      <td>1</td>\n",
       "      <td>0</td>\n",
       "      <td>0</td>\n",
       "      <td>28</td>\n",
       "    </tr>\n",
       "    <tr>\n",
       "      <th>3</th>\n",
       "      <td>0018df346ac9c1d8413cfcc888ca8246</td>\n",
       "      <td>0</td>\n",
       "      <td>1</td>\n",
       "      <td>1</td>\n",
       "      <td>1</td>\n",
       "      <td>0</td>\n",
       "      <td>0</td>\n",
       "      <td>0</td>\n",
       "      <td>0</td>\n",
       "      <td>0</td>\n",
       "      <td>0</td>\n",
       "      <td>0</td>\n",
       "      <td>0</td>\n",
       "      <td>15</td>\n",
       "    </tr>\n",
       "    <tr>\n",
       "      <th>4</th>\n",
       "      <td>001dc955e10590d3ca4673f034feeef2</td>\n",
       "      <td>0</td>\n",
       "      <td>0</td>\n",
       "      <td>0</td>\n",
       "      <td>1</td>\n",
       "      <td>0</td>\n",
       "      <td>0</td>\n",
       "      <td>1</td>\n",
       "      <td>0</td>\n",
       "      <td>0</td>\n",
       "      <td>0</td>\n",
       "      <td>0</td>\n",
       "      <td>0</td>\n",
       "      <td>72</td>\n",
       "    </tr>\n",
       "    <tr>\n",
       "      <th>...</th>\n",
       "      <td>...</td>\n",
       "      <td>...</td>\n",
       "      <td>...</td>\n",
       "      <td>...</td>\n",
       "      <td>...</td>\n",
       "      <td>...</td>\n",
       "      <td>...</td>\n",
       "      <td>...</td>\n",
       "      <td>...</td>\n",
       "      <td>...</td>\n",
       "      <td>...</td>\n",
       "      <td>...</td>\n",
       "      <td>...</td>\n",
       "      <td>...</td>\n",
       "    </tr>\n",
       "    <tr>\n",
       "      <th>9907</th>\n",
       "      <td>ffbfa0383c34dc513c95560d6e1fdb57</td>\n",
       "      <td>0</td>\n",
       "      <td>0</td>\n",
       "      <td>0</td>\n",
       "      <td>1</td>\n",
       "      <td>0</td>\n",
       "      <td>0</td>\n",
       "      <td>0</td>\n",
       "      <td>0</td>\n",
       "      <td>0</td>\n",
       "      <td>0</td>\n",
       "      <td>0</td>\n",
       "      <td>1</td>\n",
       "      <td>15</td>\n",
       "    </tr>\n",
       "    <tr>\n",
       "      <th>9908</th>\n",
       "      <td>ffcc8532d76436fc79e50eb2e5238e45</td>\n",
       "      <td>0</td>\n",
       "      <td>1</td>\n",
       "      <td>1</td>\n",
       "      <td>1</td>\n",
       "      <td>0</td>\n",
       "      <td>0</td>\n",
       "      <td>0</td>\n",
       "      <td>0</td>\n",
       "      <td>0</td>\n",
       "      <td>0</td>\n",
       "      <td>0</td>\n",
       "      <td>0</td>\n",
       "      <td>70</td>\n",
       "    </tr>\n",
       "    <tr>\n",
       "      <th>9909</th>\n",
       "      <td>ffdf2e8673a1da6fb80342fa3b119a20</td>\n",
       "      <td>0</td>\n",
       "      <td>1</td>\n",
       "      <td>1</td>\n",
       "      <td>1</td>\n",
       "      <td>0</td>\n",
       "      <td>0</td>\n",
       "      <td>0</td>\n",
       "      <td>0</td>\n",
       "      <td>1</td>\n",
       "      <td>1</td>\n",
       "      <td>0</td>\n",
       "      <td>0</td>\n",
       "      <td>20</td>\n",
       "    </tr>\n",
       "    <tr>\n",
       "      <th>9910</th>\n",
       "      <td>fff19e2ce11718548fa1c5d039a5192a</td>\n",
       "      <td>0</td>\n",
       "      <td>1</td>\n",
       "      <td>1</td>\n",
       "      <td>1</td>\n",
       "      <td>0</td>\n",
       "      <td>0</td>\n",
       "      <td>0</td>\n",
       "      <td>0</td>\n",
       "      <td>1</td>\n",
       "      <td>0</td>\n",
       "      <td>0</td>\n",
       "      <td>0</td>\n",
       "      <td>20</td>\n",
       "    </tr>\n",
       "    <tr>\n",
       "      <th>9911</th>\n",
       "      <td>fff8e47c766799c9e12f3cb3d66ad228</td>\n",
       "      <td>0</td>\n",
       "      <td>1</td>\n",
       "      <td>1</td>\n",
       "      <td>1</td>\n",
       "      <td>0</td>\n",
       "      <td>0</td>\n",
       "      <td>0</td>\n",
       "      <td>0</td>\n",
       "      <td>0</td>\n",
       "      <td>0</td>\n",
       "      <td>0</td>\n",
       "      <td>0</td>\n",
       "      <td>30</td>\n",
       "    </tr>\n",
       "  </tbody>\n",
       "</table>\n",
       "<p>9912 rows × 14 columns</p>\n",
       "</div>\n",
       "      <button class=\"colab-df-convert\" onclick=\"convertToInteractive('df-eeb97c01-907d-4227-ac36-50ac76bcd154')\"\n",
       "              title=\"Convert this dataframe to an interactive table.\"\n",
       "              style=\"display:none;\">\n",
       "        \n",
       "  <svg xmlns=\"http://www.w3.org/2000/svg\" height=\"24px\"viewBox=\"0 0 24 24\"\n",
       "       width=\"24px\">\n",
       "    <path d=\"M0 0h24v24H0V0z\" fill=\"none\"/>\n",
       "    <path d=\"M18.56 5.44l.94 2.06.94-2.06 2.06-.94-2.06-.94-.94-2.06-.94 2.06-2.06.94zm-11 1L8.5 8.5l.94-2.06 2.06-.94-2.06-.94L8.5 2.5l-.94 2.06-2.06.94zm10 10l.94 2.06.94-2.06 2.06-.94-2.06-.94-.94-2.06-.94 2.06-2.06.94z\"/><path d=\"M17.41 7.96l-1.37-1.37c-.4-.4-.92-.59-1.43-.59-.52 0-1.04.2-1.43.59L10.3 9.45l-7.72 7.72c-.78.78-.78 2.05 0 2.83L4 21.41c.39.39.9.59 1.41.59.51 0 1.02-.2 1.41-.59l7.78-7.78 2.81-2.81c.8-.78.8-2.07 0-2.86zM5.41 20L4 18.59l7.72-7.72 1.47 1.35L5.41 20z\"/>\n",
       "  </svg>\n",
       "      </button>\n",
       "      \n",
       "  <style>\n",
       "    .colab-df-container {\n",
       "      display:flex;\n",
       "      flex-wrap:wrap;\n",
       "      gap: 12px;\n",
       "    }\n",
       "\n",
       "    .colab-df-convert {\n",
       "      background-color: #E8F0FE;\n",
       "      border: none;\n",
       "      border-radius: 50%;\n",
       "      cursor: pointer;\n",
       "      display: none;\n",
       "      fill: #1967D2;\n",
       "      height: 32px;\n",
       "      padding: 0 0 0 0;\n",
       "      width: 32px;\n",
       "    }\n",
       "\n",
       "    .colab-df-convert:hover {\n",
       "      background-color: #E2EBFA;\n",
       "      box-shadow: 0px 1px 2px rgba(60, 64, 67, 0.3), 0px 1px 3px 1px rgba(60, 64, 67, 0.15);\n",
       "      fill: #174EA6;\n",
       "    }\n",
       "\n",
       "    [theme=dark] .colab-df-convert {\n",
       "      background-color: #3B4455;\n",
       "      fill: #D2E3FC;\n",
       "    }\n",
       "\n",
       "    [theme=dark] .colab-df-convert:hover {\n",
       "      background-color: #434B5C;\n",
       "      box-shadow: 0px 1px 3px 1px rgba(0, 0, 0, 0.15);\n",
       "      filter: drop-shadow(0px 1px 2px rgba(0, 0, 0, 0.3));\n",
       "      fill: #FFFFFF;\n",
       "    }\n",
       "  </style>\n",
       "\n",
       "      <script>\n",
       "        const buttonEl =\n",
       "          document.querySelector('#df-eeb97c01-907d-4227-ac36-50ac76bcd154 button.colab-df-convert');\n",
       "        buttonEl.style.display =\n",
       "          google.colab.kernel.accessAllowed ? 'block' : 'none';\n",
       "\n",
       "        async function convertToInteractive(key) {\n",
       "          const element = document.querySelector('#df-eeb97c01-907d-4227-ac36-50ac76bcd154');\n",
       "          const dataTable =\n",
       "            await google.colab.kernel.invokeFunction('convertToInteractive',\n",
       "                                                     [key], {});\n",
       "          if (!dataTable) return;\n",
       "\n",
       "          const docLinkHtml = 'Like what you see? Visit the ' +\n",
       "            '<a target=\"_blank\" href=https://colab.research.google.com/notebooks/data_table.ipynb>data table notebook</a>'\n",
       "            + ' to learn more about interactive tables.';\n",
       "          element.innerHTML = '';\n",
       "          dataTable['output_type'] = 'display_data';\n",
       "          await google.colab.output.renderOutput(dataTable, element);\n",
       "          const docLink = document.createElement('div');\n",
       "          docLink.innerHTML = docLinkHtml;\n",
       "          element.appendChild(docLink);\n",
       "        }\n",
       "      </script>\n",
       "    </div>\n",
       "  </div>\n",
       "  "
      ],
      "text/plain": [
       "                                    Id  Subject Focus  ...  Blur  Pawpularity\n",
       "0     0007de18844b0dbbb5e1f607da0606e0              0  ...     0           63\n",
       "1     0009c66b9439883ba2750fb825e1d7db              0  ...     0           42\n",
       "2     0013fd999caf9a3efe1352ca1b0d937e              0  ...     0           28\n",
       "3     0018df346ac9c1d8413cfcc888ca8246              0  ...     0           15\n",
       "4     001dc955e10590d3ca4673f034feeef2              0  ...     0           72\n",
       "...                                ...            ...  ...   ...          ...\n",
       "9907  ffbfa0383c34dc513c95560d6e1fdb57              0  ...     1           15\n",
       "9908  ffcc8532d76436fc79e50eb2e5238e45              0  ...     0           70\n",
       "9909  ffdf2e8673a1da6fb80342fa3b119a20              0  ...     0           20\n",
       "9910  fff19e2ce11718548fa1c5d039a5192a              0  ...     0           20\n",
       "9911  fff8e47c766799c9e12f3cb3d66ad228              0  ...     0           30\n",
       "\n",
       "[9912 rows x 14 columns]"
      ]
     },
     "execution_count": 3,
     "metadata": {},
     "output_type": "execute_result"
    }
   ],
   "source": [
    "# Import the CSV tables\n",
    "csv_train_data = pd.read_csv(\"/tmp/Fitgirls0011-main/petfinder-pawpularity-score/train.csv\")\n",
    "csv_test_data = pd.read_csv(\"/tmp/Fitgirls0011-main/petfinder-pawpularity-score/test.csv\")\n",
    "sample_submission = pd.read_csv(\"/tmp/Fitgirls0011-main/petfinder-pawpularity-score/sample_submission.csv\")\n",
    "csv_train_data.head()\n",
    "\n",
    "# Drop rows with missing values (if NaN values are in dataframe)\n",
    "# No missing values present, so no samples dropped\n",
    "csv_train_data.dropna()"
   ]
  },
  {
   "cell_type": "code",
   "execution_count": null,
   "id": "SRYM1P29o8k1",
   "metadata": {
    "colab": {
     "base_uri": "https://localhost:8080/",
     "height": 295
    },
    "id": "SRYM1P29o8k1",
    "outputId": "28fca4b3-2f29-44e9-f988-9a428ac27481"
   },
   "outputs": [
    {
     "data": {
      "image/png": "[encoded data removed]",
      "text/plain": [
       "<Figure size 432x288 with 1 Axes>"
      ]
     },
     "metadata": {
      "needs_background": "light"
     },
     "output_type": "display_data"
    }
   ],
   "source": [
    "# create a plot that shows the distribution of the output of the training samples\n",
    "plt.hist(csv_train_data['Pawpularity'], bins=100)\n",
    "plt.title(\"Data distribution of the tabular data\")\n",
    "plt.xlabel(\"Pawpularity score\")\n",
    "plt.ylabel(\"Occurence\")\n",
    "plt.xlim(0, 100)\n",
    "\n",
    "plt.show()"
   ]
  },
  {
   "cell_type": "markdown",
   "id": "5eccde6f",
   "metadata": {
    "id": "5eccde6f"
   },
   "source": [
    "# Import image data\n",
    "The images are imported from the folders. Each image is reshaped to a 64x64 image. In this way all the images have the same shape and we do not use much memory, to speed up analysis. After the images are imported, the images and their names are shuffled. This is done, so we can later take a validation sample containing a random subsample of the dataset. It could be that the images in the dataset contain some order, so by shuffling we ensure that the subset for the validation data is random.\n",
    "\n"
   ]
  },
  {
   "cell_type": "code",
   "execution_count": null,
   "id": "6a8970b3",
   "metadata": {
    "id": "6a8970b3"
   },
   "outputs": [],
   "source": [
    "def reshape_images(path, n):\n",
    "    \"\"\"\n",
    "    This function returns a list of images, which are reshaped to 64 x 64 \n",
    "    and a list with the names of the images.\n",
    "    \"\"\"\n",
    "    # Set the current path\n",
    "    chdir(path)\n",
    "    \n",
    "    # Preset the lists\n",
    "    images = []\n",
    "    image_names = []\n",
    "    \n",
    "    # Go over all the files in the path\n",
    "    for i in listdir():\n",
    "        \n",
    "        # Get the name of the image, without .jpg\n",
    "        image_names.append(i[:-4])\n",
    "        \n",
    "        # Get the image and reshape to n x n\n",
    "        file = cv2.imread(i)\n",
    "        file = cv2.resize(file,(n, n), interpolation=cv2.INTER_AREA)\n",
    "        \n",
    "        # Rescale the pixels and store in the list\n",
    "        images.append(file/255)\n",
    "        \n",
    "    return images, image_names\n",
    "\n",
    "# Reshape train and test images\n",
    "train_imgs, train_names = reshape_images(\"/tmp/Fitgirls0011-main/petfinder-pawpularity-score/train\", 64)\n",
    "test_imgs, test_names = reshape_images(\"/tmp/Fitgirls0011-main/petfinder-pawpularity-score/test\", 64)"
   ]
  },
  {
   "cell_type": "code",
   "execution_count": null,
   "id": "ETCcGce5_P41",
   "metadata": {
    "id": "ETCcGce5_P41"
   },
   "outputs": [],
   "source": [
    "# shuffle train image data\n",
    "c = list(zip(train_imgs, train_names))\n",
    "\n",
    "# make sure shuffle is the same each time\n",
    "random.seed(4)\n",
    "random.shuffle(c)\n",
    "\n",
    "train_imgs, train_names = zip(*c)"
   ]
  },
  {
   "cell_type": "markdown",
   "id": "8b818ae9",
   "metadata": {
    "id": "8b818ae9"
   },
   "source": [
    "# Combine tabular data with images\n",
    "To ensure that the dataframe has the same order as the images in the list, we sort the dataframe based on the names of the images. If this would not be the case, it could be that you learn incorrectly, as the output of an image perhaps is not the real output."
   ]
  },
  {
   "cell_type": "code",
   "execution_count": null,
   "id": "85185f99",
   "metadata": {
    "id": "85185f99"
   },
   "outputs": [],
   "source": [
    "def sort_dataframe(data, images, names):\n",
    "    \"\"\"\n",
    "    This function sorts the dataframe of the csv data according to the image names.\n",
    "    \"\"\"\n",
    "    data_sorted = pd.DataFrame()\n",
    "\n",
    "    # Iterate over images and get index of each image\n",
    "    for img, name in zip(images, names):\n",
    "        location = data[data['Id'] == name].index[0]\n",
    "\n",
    "        # Sort dataframe according to index of images\n",
    "        data_sorted = data_sorted.append([data.loc[location]])\n",
    "        data_sorted = data_sorted.reset_index().drop(['index'],axis=1)\n",
    "        \n",
    "    return data_sorted\n",
    "\n",
    "# Sort training and testing data\n",
    "train_data_sorted = sort_dataframe(csv_train_data, train_imgs, train_names)\n",
    "test_data_sorted = sort_dataframe(csv_test_data, test_imgs, test_names)\n",
    "sample_submission_sorted = sort_dataframe(sample_submission, test_imgs, test_names)\n"
   ]
  },
  {
   "cell_type": "markdown",
   "id": "e9206b4b",
   "metadata": {
    "id": "e9206b4b"
   },
   "source": [
    "# Processing data\n",
    "First we split the data in a train and validation set, where 20% of the data is put in the validation set. Then the image data is converted to numpy arrays, so they can be used in the neural networks. The tabular data is split in the x and y values and also converted to numpy arrays."
   ]
  },
  {
   "cell_type": "code",
   "execution_count": null,
   "id": "FFrWouIp2Iha",
   "metadata": {
    "id": "FFrWouIp2Iha"
   },
   "outputs": [],
   "source": [
    "# split the dataset into training and validation set\n",
    "split_threshold = int(0.2 * len(train_names))\n",
    "\n",
    "val_tabular = train_data_sorted[:split_threshold]\n",
    "train_tabular = train_data_sorted[split_threshold:]\n",
    "\n",
    "val_images = train_imgs[:split_threshold]\n",
    "train_images = train_imgs[split_threshold:]"
   ]
  },
  {
   "cell_type": "code",
   "execution_count": null,
   "id": "2bcac655",
   "metadata": {
    "id": "2bcac655"
   },
   "outputs": [],
   "source": [
    "# Make numpy arrays of images for further analysis\n",
    "train_imgs_array = np.array(train_images)\n",
    "val_imgs_array = np.array(val_images)\n",
    "test_imgs_array = np.array(test_imgs)"
   ]
  },
  {
   "cell_type": "code",
   "execution_count": null,
   "id": "14a824c4",
   "metadata": {
    "id": "14a824c4"
   },
   "outputs": [],
   "source": [
    "# Select x-values (the 12 input features) from training data\n",
    "x_train_tabular = train_tabular.iloc[:,1:13].to_numpy()\n",
    "\n",
    "# Select y-values (pawpularity) from training data\n",
    "y_train = train_tabular.iloc[:,13].to_numpy()\n",
    "\n",
    "# select x and y values of validation dataset\n",
    "x_val_tabular = val_tabular.iloc[:,1:13].to_numpy()\n",
    "y_val = val_tabular.iloc[:,13].to_numpy()\n",
    "\n",
    "# Select x-values (12 input features) from testing data\n",
    "x_test_tabular = test_data_sorted.iloc[:,1:13].to_numpy()\n",
    "\n",
    "# Select y-values (pawpularity) from testing data\n",
    "y_test = sample_submission_sorted.iloc[:,1].to_numpy()"
   ]
  },
  {
   "cell_type": "markdown",
   "id": "RNE8NWL7xgmp",
   "metadata": {
    "id": "RNE8NWL7xgmp"
   },
   "source": [
    "# Create seperate neural networks\n",
    "We create a tabular neural network to handle the data in the csv. Then we create a convolutional neural network to handle the image data. Both neural networks have no output layer, since they will be concatenated to one neural network, which will give the output."
   ]
  },
  {
   "cell_type": "code",
   "execution_count": null,
   "id": "ccf1cb99",
   "metadata": {
    "colab": {
     "base_uri": "https://localhost:8080/"
    },
    "id": "ccf1cb99",
    "outputId": "f0cb64fe-1f01-49b9-e7dc-c28d519945ad"
   },
   "outputs": [
    {
     "name": "stdout",
     "output_type": "stream",
     "text": [
      "Model: \"sequential_2\"\n",
      "_________________________________________________________________\n",
      " Layer (type)                Output Shape              Param #   \n",
      "=================================================================\n",
      " dense_20 (Dense)            (None, 20)                260       \n",
      "                                                                 \n",
      "=================================================================\n",
      "Total params: 260\n",
      "Trainable params: 260\n",
      "Non-trainable params: 0\n",
      "_________________________________________________________________\n"
     ]
    }
   ],
   "source": [
    "def build_neural_net(input_size, hidden_nodes):\n",
    "    \"\"\"\n",
    "    Build neural network with an input size and a hidden layer with a number of \n",
    "    hidden nodes.\n",
    "    \"\"\"\n",
    "    # Create a sequential model object\n",
    "    model = models.Sequential()\n",
    "\n",
    "    # Create a hidden layer with relu activations\n",
    "    model.add(layers.Dense(units=hidden_nodes, activation='relu', input_shape=(input_size,)))\n",
    "    \n",
    "    return model\n",
    "\n",
    "# Create neural network for tabular data and get summary of model \n",
    "# with 12 inputs and 100 hidden nodes\n",
    "tabular_NN = build_neural_net(12, hidden_nodes=20)\n",
    "tabular_NN.summary()"
   ]
  },
  {
   "cell_type": "code",
   "execution_count": null,
   "id": "bd18b2f9",
   "metadata": {
    "id": "bd18b2f9"
   },
   "outputs": [],
   "source": [
    "def build_convol_net(image_size, hidden_nodes):\n",
    "    \"\"\"\n",
    "    Build neural network with an input size and a hidden layer with a number \n",
    "    of hidden nodes.\n",
    "    \"\"\"\n",
    "    # Create a sequential model object\n",
    "    model = models.Sequential()\n",
    "    \n",
    "    # Create a convolutional layer with relu activation\n",
    "    model.add(layers.Conv2D(filters=64, kernel_size=(3,3), activation='relu', input_shape=image_size, padding='same'))\n",
    "    \n",
    "    # Create a maxpool layer\n",
    "    model.add(layers.MaxPool2D(pool_size=(2,2), strides=2))\n",
    "    \n",
    "    # Create a convolutional layer with relu activation\n",
    "    model.add(layers.Conv2D(filters=128, kernel_size=(3,3), activation='relu', padding='same'))\n",
    "\n",
    "    # Create a maxpool layer\n",
    "    model.add(layers.MaxPool2D(pool_size=(2,2), strides=2))\n",
    "    \n",
    "    # Create a flattening layer\n",
    "    model.add(layers.Flatten())\n",
    "\n",
    "    # Create a dense layer with relu activations\n",
    "    model.add(layers.Dense(units=hidden_nodes, activation=\"relu\"))\n",
    "    \n",
    "    return model"
   ]
  },
  {
   "cell_type": "code",
   "execution_count": null,
   "id": "7adc6959",
   "metadata": {
    "colab": {
     "base_uri": "https://localhost:8080/"
    },
    "id": "7adc6959",
    "outputId": "5d53cd0f-eada-44c2-a669-5e43aa8466d1"
   },
   "outputs": [
    {
     "name": "stdout",
     "output_type": "stream",
     "text": [
      "Model: \"sequential_3\"\n",
      "_________________________________________________________________\n",
      " Layer (type)                Output Shape              Param #   \n",
      "=================================================================\n",
      " conv2d_2 (Conv2D)           (None, 64, 64, 64)        1792      \n",
      "                                                                 \n",
      " max_pooling2d_2 (MaxPooling  (None, 32, 32, 64)       0         \n",
      " 2D)                                                             \n",
      "                                                                 \n",
      " conv2d_3 (Conv2D)           (None, 32, 32, 128)       73856     \n",
      "                                                                 \n",
      " max_pooling2d_3 (MaxPooling  (None, 16, 16, 128)      0         \n",
      " 2D)                                                             \n",
      "                                                                 \n",
      " flatten_1 (Flatten)         (None, 32768)             0         \n",
      "                                                                 \n",
      " dense_21 (Dense)            (None, 20)                655380    \n",
      "                                                                 \n",
      "=================================================================\n",
      "Total params: 731,028\n",
      "Trainable params: 731,028\n",
      "Non-trainable params: 0\n",
      "_________________________________________________________________\n"
     ]
    }
   ],
   "source": [
    "# Create neural network for image data and get summary of model\n",
    "image_size = (64, 64, 3)\n",
    "image_NN = build_convol_net(image_size, hidden_nodes=20)\n",
    "image_NN.summary()"
   ]
  },
  {
   "cell_type": "markdown",
   "id": "vtZpIRuAue4B",
   "metadata": {
    "id": "vtZpIRuAue4B"
   },
   "source": [
    "## Concatenate tabular and image data models\n",
    "Concatenate the tabular and image models to create one neural network that can handle both types of data. This neural network will give the prediction of the pawpularity."
   ]
  },
  {
   "cell_type": "code",
   "execution_count": null,
   "id": "1441c455",
   "metadata": {
    "id": "1441c455"
   },
   "outputs": [],
   "source": [
    "def concatenate_models(model1, model2, hidden_nodes):\n",
    "    \"\"\"\n",
    "    Concatenate two neural network models, model1 and model2, and create\n",
    "    a concatenated model with dense layers with some hidden nodes.\n",
    "    \"\"\"\n",
    "    # Input for concatenated model is retrieved by concatenating the output\n",
    "    # of both models\n",
    "    concat_input = layers.concatenate([model1.output, model2.output])\n",
    "\n",
    "    # Create hidden layers of the concatenated model\n",
    "    hidden_layer_1 = layers.Dense(hidden_nodes, activation=\"relu\")(concat_input)\n",
    "    hidden_layer_2 = layers.Dense(hidden_nodes, activation=\"relu\")(hidden_layer_1)\n",
    "    output_layer = layers.Dense(1, activation=\"linear\")(hidden_layer_2)\n",
    "\n",
    "    # Create concatenated model with inputs of both models and output of the\n",
    "    # concatenated model\n",
    "    concat_model = models.Model(inputs=[model1.input, model2.input], outputs=output_layer)\n",
    "\n",
    "    return concat_model"
   ]
  },
  {
   "cell_type": "code",
   "execution_count": null,
   "id": "DZ58i65PvawJ",
   "metadata": {
    "colab": {
     "base_uri": "https://localhost:8080/",
     "height": 1000
    },
    "id": "DZ58i65PvawJ",
    "outputId": "4c809a0f-ebd7-4be6-911e-b573d19fb15e"
   },
   "outputs": [
    {
     "name": "stdout",
     "output_type": "stream",
     "text": [
      "Epoch 1/20\n",
      "248/248 [==============================] - 15s 14ms/step - loss: 522.8703 - root_mean_squared_error: 22.8664 - val_loss: 535.1280 - val_root_mean_squared_error: 23.1328\n",
      "Epoch 2/20\n",
      "248/248 [==============================] - 3s 11ms/step - loss: 482.2253 - root_mean_squared_error: 21.9596 - val_loss: 447.4556 - val_root_mean_squared_error: 21.1531\n",
      "Epoch 3/20\n",
      "248/248 [==============================] - 3s 12ms/step - loss: 468.6045 - root_mean_squared_error: 21.6473 - val_loss: 438.0435 - val_root_mean_squared_error: 20.9295\n",
      "Epoch 4/20\n",
      "248/248 [==============================] - 3s 11ms/step - loss: 452.5825 - root_mean_squared_error: 21.2740 - val_loss: 469.2490 - val_root_mean_squared_error: 21.6622\n",
      "Epoch 5/20\n",
      "248/248 [==============================] - 3s 11ms/step - loss: 447.9523 - root_mean_squared_error: 21.1649 - val_loss: 432.3658 - val_root_mean_squared_error: 20.7934\n",
      "Epoch 6/20\n",
      "248/248 [==============================] - 3s 11ms/step - loss: 439.6167 - root_mean_squared_error: 20.9670 - val_loss: 429.5174 - val_root_mean_squared_error: 20.7248\n",
      "Epoch 7/20\n",
      "248/248 [==============================] - 3s 11ms/step - loss: 433.1344 - root_mean_squared_error: 20.8119 - val_loss: 454.1983 - val_root_mean_squared_error: 21.3119\n",
      "Epoch 8/20\n",
      "248/248 [==============================] - 3s 11ms/step - loss: 423.6549 - root_mean_squared_error: 20.5829 - val_loss: 433.2661 - val_root_mean_squared_error: 20.8150\n",
      "Epoch 9/20\n",
      "248/248 [==============================] - 3s 11ms/step - loss: 412.1053 - root_mean_squared_error: 20.3004 - val_loss: 467.6788 - val_root_mean_squared_error: 21.6259\n",
      "Epoch 10/20\n",
      "248/248 [==============================] - 3s 11ms/step - loss: 398.4300 - root_mean_squared_error: 19.9607 - val_loss: 436.8974 - val_root_mean_squared_error: 20.9021\n",
      "Epoch 11/20\n",
      "248/248 [==============================] - 3s 11ms/step - loss: 385.9095 - root_mean_squared_error: 19.6446 - val_loss: 443.8770 - val_root_mean_squared_error: 21.0684\n",
      "Epoch 12/20\n",
      "248/248 [==============================] - 3s 11ms/step - loss: 369.0401 - root_mean_squared_error: 19.2104 - val_loss: 465.6674 - val_root_mean_squared_error: 21.5793\n",
      "Epoch 13/20\n",
      "248/248 [==============================] - 3s 11ms/step - loss: 352.6577 - root_mean_squared_error: 18.7792 - val_loss: 467.6057 - val_root_mean_squared_error: 21.6242\n",
      "Epoch 14/20\n",
      "248/248 [==============================] - 3s 11ms/step - loss: 331.0075 - root_mean_squared_error: 18.1936 - val_loss: 477.3323 - val_root_mean_squared_error: 21.8479\n",
      "Epoch 15/20\n",
      "248/248 [==============================] - 3s 11ms/step - loss: 306.2548 - root_mean_squared_error: 17.5001 - val_loss: 501.8527 - val_root_mean_squared_error: 22.4021\n",
      "Epoch 16/20\n",
      "248/248 [==============================] - 3s 11ms/step - loss: 284.5721 - root_mean_squared_error: 16.8693 - val_loss: 582.1660 - val_root_mean_squared_error: 24.1281\n",
      "Epoch 17/20\n",
      "248/248 [==============================] - 3s 11ms/step - loss: 254.7001 - root_mean_squared_error: 15.9593 - val_loss: 551.1120 - val_root_mean_squared_error: 23.4758\n",
      "Epoch 18/20\n",
      "248/248 [==============================] - 3s 11ms/step - loss: 227.4016 - root_mean_squared_error: 15.0798 - val_loss: 516.1302 - val_root_mean_squared_error: 22.7185\n",
      "Epoch 19/20\n",
      "248/248 [==============================] - 3s 11ms/step - loss: 202.9187 - root_mean_squared_error: 14.2450 - val_loss: 538.8796 - val_root_mean_squared_error: 23.2138\n",
      "Epoch 20/20\n",
      "248/248 [==============================] - 3s 11ms/step - loss: 177.5235 - root_mean_squared_error: 13.3238 - val_loss: 542.4237 - val_root_mean_squared_error: 23.2900\n"
     ]
    },
    {
     "data": {
      "image/png": "[encoded data removed]",
      "text/plain": [
       "<Figure size 1440x360 with 2 Axes>"
      ]
     },
     "metadata": {
      "needs_background": "light"
     },
     "output_type": "display_data"
    },
    {
     "name": "stdout",
     "output_type": "stream",
     "text": [
      "62/62 [==============================] - 0s 6ms/step - loss: 542.4238 - root_mean_squared_error: 23.2900\n",
      "Validation Accuracy: 23.289993286132812\n",
      "1/1 [==============================] - 0s 199ms/step - loss: 1309.1932 - root_mean_squared_error: 36.1828\n",
      "Test loss: [1309.1932373046875, 36.18277359008789]\n"
     ]
    }
   ],
   "source": [
    "# Part of code from: https://www.tensorflow.org/tutorials/keras/regression\n",
    "\n",
    "def plot_loss(history):\n",
    "    \"\"\"\n",
    "    Plot loss during epochs of training a neural network.\n",
    "    \"\"\"\n",
    "    \n",
    "    fig, axs = plt.subplots(1,2,figsize=(20,5)) \n",
    "\n",
    "    for i, metric in enumerate(['loss', 'root_mean_squared_error']):\n",
    "        axs[i].plot(history.history[metric])\n",
    "        axs[i].plot(history.history['val_'+metric])\n",
    "        axs[i].legend(['training', 'validation'], loc='best')\n",
    "\n",
    "        axs[i].set_title('Model '+metric)\n",
    "        axs[i].set_ylabel(metric)\n",
    "        axs[i].set_xlabel('epoch')\n",
    "\n",
    "    plt.show()\n",
    "\n",
    "\n",
    "def train_and_evaluate(model, image_x, tabular_x, train_y, x_val_tabular, x_val_imgs, val_y, epochs=20, preprocess = {}, augment={}):\n",
    "  # Compile model and use mean squared error as loss and root mean squared error as metric\n",
    "  model.compile(loss=MeanSquaredError(), metrics=[RootMeanSquaredError()])\n",
    "\n",
    "  # preprocess\n",
    "  train_gen = preprocessing.image.ImageDataGenerator(**preprocess, **augment)\n",
    "  train_gen.fit(image_x)\n",
    "\n",
    "  val_gen = preprocessing.image.ImageDataGenerator(**preprocess)\n",
    "  val_gen.fit(image_x)\n",
    "\n",
    "  # Train the model by fitting both tabular and image data at the same time\n",
    "  history = model.fit(train_gen.flow([image_x, tabular_x], train_y), epochs=epochs, validation_data=val_gen.flow([x_val_imgs, x_val_tabular], val_y))\n",
    "\n",
    "  # plot the loss and metric\n",
    "  plot_loss(history)\n",
    "  print(f\"Validation Accuracy: {model.evaluate(val_gen.flow([x_val_imgs, x_val_tabular], val_y))[1]}\")\n",
    "\n",
    "# Concatenate tabular and image neural networks\n",
    "concat_model = concatenate_models(image_NN, tabular_NN, hidden_nodes=20)\n",
    "\n",
    "# Train model on both tabular and image data\n",
    "train_and_evaluate(concat_model, train_imgs_array, x_train_tabular, y_train, \n",
    "                   x_val_tabular, val_imgs_array, y_val,\n",
    "                   preprocess={'featurewise_center': True, 'featurewise_std_normalization': True}, epochs = 20)\n",
    "\n",
    "# See how the model scored\n",
    "loss = concat_model.evaluate([test_imgs_array, x_test_tabular], y_test)\n",
    "\n",
    "# Print to 3 decimals\n",
    "print(f'Test loss: {loss}')\n"
   ]
  },
  {
   "cell_type": "code",
   "execution_count": null,
   "id": "9pCGp2O2qevb",
   "metadata": {
    "colab": {
     "base_uri": "https://localhost:8080/",
     "height": 201
    },
    "id": "9pCGp2O2qevb",
    "outputId": "7f890533-2411-47f0-bf9c-4f927d997aed"
   },
   "outputs": [
    {
     "ename": "NameError",
     "evalue": "ignored",
     "output_type": "error",
     "traceback": [
      "\u001b[0;31m---------------------------------------------------------------------------\u001b[0m",
      "\u001b[0;31mNameError\u001b[0m                                 Traceback (most recent call last)",
      "\u001b[0;32m<ipython-input-1-29cfe3edf874>\u001b[0m in \u001b[0;36m<module>\u001b[0;34m()\u001b[0m\n\u001b[1;32m     36\u001b[0m     \u001b[0;32mreturn\u001b[0m \u001b[0mavg_train_loss\u001b[0m\u001b[0;34m,\u001b[0m \u001b[0mavg_val_loss\u001b[0m\u001b[0;34m\u001b[0m\u001b[0;34m\u001b[0m\u001b[0m\n\u001b[1;32m     37\u001b[0m \u001b[0;34m\u001b[0m\u001b[0m\n\u001b[0;32m---> 38\u001b[0;31m \u001b[0mavg_train_loss\u001b[0m\u001b[0;34m,\u001b[0m \u001b[0mavg_val_loss\u001b[0m \u001b[0;34m=\u001b[0m \u001b[0mk_fold\u001b[0m\u001b[0;34m(\u001b[0m\u001b[0;36m5\u001b[0m\u001b[0;34m,\u001b[0m \u001b[0mtrain_data_sorted\u001b[0m\u001b[0;34m,\u001b[0m \u001b[0mtrain_imgs\u001b[0m\u001b[0;34m,\u001b[0m\u001b[0mimage_NN\u001b[0m\u001b[0;34m,\u001b[0m \u001b[0mtabular_NN\u001b[0m\u001b[0;34m)\u001b[0m\u001b[0;34m\u001b[0m\u001b[0;34m\u001b[0m\u001b[0m\n\u001b[0m",
      "\u001b[0;31mNameError\u001b[0m: name 'train_data_sorted' is not defined"
     ]
    }
   ],
   "source": [
    "from sklearn.model_selection import KFold\n",
    "\n",
    "def k_fold(num_folds, tabular_data, image_data, model1, model2, epochs=20, preprocess={}, augment={}):\n",
    "    # Select x-values (the 12 input features) from training data\n",
    "    x_tabular = tabular_data.iloc[:,1:13].to_numpy()\n",
    "\n",
    "    x_imgs = np.array(image_data)\n",
    "\n",
    "    y = tabular_data.iloc[:,13].to_numpy()\n",
    "\n",
    "    kfold = KFold(n_splits=num_folds, shuffle=True)\n",
    "    x_indices = np.array(range(len(x_tabular)))\n",
    "    y_indices = np.array(range(len(y)))\n",
    "\n",
    "    train_loss = [0,0]\n",
    "    val_loss = [0,0]\n",
    "\n",
    "    for id_train, id_val in kfold.split(x_indices, y_indices):\n",
    "        x_tabular_train = x_tabular[id_train]\n",
    "        x_imgs_train = x_imgs[id_train]\n",
    "        y_train = y[id_train]\n",
    "        \n",
    "        x_tabular_val = x_tabular[id_val]\n",
    "        x_imgs_val = x_imgs[id_val]\n",
    "        y_val_2 = y[id_val]\n",
    "\n",
    "        concat_model = concatenate_models(model1, model2, hidden_nodes=20)\n",
    "        train_and_evaluate(concat_model, x_imgs_train, x_tabular_train, y_train, x_tabular_val, x_imgs_val, y_val_2, epochs=20, preprocess={}, augment={})\n",
    "\n",
    "        train_loss += concat_model.evaluate([x_imgs_train, x_tabular_train], y_train)\n",
    "        val_loss += concat_model.evaluate([x_imgs_val, x_tabular_val], y_val_2)\n",
    "\n",
    "    avg_train_loss = train_loss / num_folds\n",
    "    avg_val_loss = val_loss / num_folds\n",
    "\n",
    "    return avg_train_loss, avg_val_loss\n",
    "\n",
    "avg_train_loss, avg_val_loss = k_fold(5, train_data_sorted, train_imgs,image_NN, tabular_NN)\n"
   ]
  },
  {
   "cell_type": "code",
   "execution_count": null,
   "id": "9-K3Mgs8weVG",
   "metadata": {
    "id": "9-K3Mgs8weVG"
   },
   "outputs": [],
   "source": [
    "# Create overview of layers in model\n",
    "tf.keras.utils.plot_model(concat_model, to_file='model.png', show_shapes=True, show_layer_names=True, rankdir='TB')"
   ]
  }
 ],
 "metadata": {
  "accelerator": "GPU",
  "colab": {
   "collapsed_sections": [],
   "name": "Kopie_van_Milestone_2_Demi_Bente.ipynb",
   "provenance": []
  },
  "kernelspec": {
   "display_name": "Python 3 (ipykernel)",
   "language": "python",
   "name": "python3"
  },
  "language_info": {
   "codemirror_mode": {
    "name": "ipython",
    "version": 3
   },
   "file_extension": ".py",
   "mimetype": "text/x-python",
   "name": "python",
   "nbconvert_exporter": "python",
   "pygments_lexer": "ipython3",
   "version": "3.7.11"
  }
 },
 "nbformat": 4,
 "nbformat_minor": 5
}
