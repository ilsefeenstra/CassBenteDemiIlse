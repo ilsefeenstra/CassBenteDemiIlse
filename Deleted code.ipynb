{
 "cells": [
  {
   "cell_type": "code",
   "execution_count": null,
   "id": "4940683d",
   "metadata": {},
   "outputs": [],
   "source": [
    "def merge_images(data, images, names):\n",
    "    \"\"\"\n",
    "    This function merges the images to the corresponding row of the dataframe.\n",
    "    \"\"\"\n",
    "    \n",
    "    data['Image'] = \"\"\n",
    "    \n",
    "    # loop over all the names of the images\n",
    "    for index_image, name_image in enumerate(names):\n",
    "        \n",
    "        # loop over all the names in the dataframe\n",
    "        for index_csv, name_csv in enumerate(data['Id']):\n",
    "            \n",
    "            # if the names match, add the image to the row of the dataframe\n",
    "            if name_image == name_csv:\n",
    "                data['Image'][index_csv] = images[index_image]\n",
    "\n",
    "    return data\n",
    "\n",
    "merged_train_data = merge_images(csv_train_data, train_imgs, train_names)\n",
    "merged_test_data = merge_images(csv_test_data, test_imgs, test_names)\n",
    "display(merged_test_data)"
   ]
  },
  {
   "cell_type": "code",
   "execution_count": null,
   "id": "74e71973",
   "metadata": {},
   "outputs": [],
   "source": [
    "# import tabular data from github\n",
    "csv_train_data = pd.read_csv('https://raw.githubusercontent.com/ilsefeenstra/Fitgirls0011/main/petfinder-pawpularity-score/train.csv')\n",
    "csv_test_data = pd.read_csv('https://raw.githubusercontent.com/ilsefeenstra/Fitgirls0011/main/petfinder-pawpularity-score/test.csv')\n",
    "sample_submission = pd.read_csv('https://raw.githubusercontent.com/ilsefeenstra/Fitgirls0011/main/petfinder-pawpularity-score/sample_submission.csv')\n",
    "sample_submission.head()\n",
    "csv_train_data.head()\n",
    "\n",
    "# no missing values present, so no samples dropped\n",
    "csv_train_data.dropna()\n",
    "\n",
    "# scale the pawpularity score to numbers between 0 and 1\n",
    "csv_train_data['Pawpularity'] = csv_train_data['Pawpularity'] / 100\n",
    "sample_submission['Pawpularity'] = sample_submission['Pawpularity'] / 100"
   ]
  }
 ],
 "metadata": {
  "kernelspec": {
   "display_name": "Python 3 (ipykernel)",
   "language": "python",
   "name": "python3"
  },
  "language_info": {
   "codemirror_mode": {
    "name": "ipython",
    "version": 3
   },
   "file_extension": ".py",
   "mimetype": "text/x-python",
   "name": "python",
   "nbconvert_exporter": "python",
   "pygments_lexer": "ipython3",
   "version": "3.7.11"
  }
 },
 "nbformat": 4,
 "nbformat_minor": 5
}
