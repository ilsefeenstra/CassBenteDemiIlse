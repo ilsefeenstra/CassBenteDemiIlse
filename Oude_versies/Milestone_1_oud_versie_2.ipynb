{
  "cells": [
    {
      "cell_type": "markdown",
      "id": "0ae29a8e",
      "metadata": {
        "id": "0ae29a8e"
      },
      "source": [
        "# Import tabular data\n",
        "\n",
        "The tabular data is imported. This contains information on whether several elements are present in the image, such as blur, a human, a group, etc. Also the pawpularity score of the training data is in the table. For the test data only the image ID and the features are in the table. There is also a sample submission table, which contains the pawpularity score for the test data."
      ]
    },
    {
      "cell_type": "code",
      "source": [
        "import pandas as pd\n",
        "from os import chdir, listdir\n",
        "import zipfile\n",
        "import os\n",
        "\n",
        "import matplotlib.pyplot as plt\n",
        "import cv2\n",
        "import numpy as np\n",
        "\n",
        "import tensorflow as tf\n",
        "from tensorflow.keras import layers, models, preprocessing\n",
        "from tensorflow.keras.losses import MeanSquaredError"
      ],
      "metadata": {
        "id": "vRjBTUzjlmKA"
      },
      "id": "vRjBTUzjlmKA",
      "execution_count": null,
      "outputs": []
    },
    {
      "cell_type": "code",
      "source": [
        "# Code from: https://towardsdatascience.com/an-informative-colab-guide-to-load-image-datasets-from-github-kaggle-and-local-machine-75cae89ffa1e\n",
        "\n",
        "# Get zip file from Github URL\n",
        "!wget --no-check-certificate \\\n",
        "    \"https://github.com/ilsefeenstra/Fitgirls0011/archive/refs/heads/main.zip\" \\\n",
        "    -O \"/tmp/pawpularity_data.zip\"\n",
        "\n",
        "# Opens the zip file in read mode and extract files into /tmp folder\n",
        "zip_ref = zipfile.ZipFile('/tmp/pawpularity_data.zip', 'r')\n",
        "zip_ref.extractall('/tmp')\n",
        "zip_ref.close()"
      ],
      "metadata": {
        "colab": {
          "base_uri": "https://localhost:8080/"
        },
        "id": "fANqjfPxoHI7",
        "outputId": "21f21532-6c2a-4cd3-de0d-fbcc7e3cdf38"
      },
      "id": "fANqjfPxoHI7",
      "execution_count": null,
      "outputs": [
        {
          "output_type": "stream",
          "name": "stdout",
          "text": [
            "--2022-01-13 10:16:21--  https://github.com/ilsefeenstra/Fitgirls0011/archive/refs/heads/main.zip\n",
            "Resolving github.com (github.com)... 192.30.255.112\n",
            "Connecting to github.com (github.com)|192.30.255.112|:443... connected.\n",
            "HTTP request sent, awaiting response... 302 Found\n",
            "Location: https://codeload.github.com/ilsefeenstra/Fitgirls0011/zip/refs/heads/main [following]\n",
            "--2022-01-13 10:16:22--  https://codeload.github.com/ilsefeenstra/Fitgirls0011/zip/refs/heads/main\n",
            "Resolving codeload.github.com (codeload.github.com)... 192.30.255.121\n",
            "Connecting to codeload.github.com (codeload.github.com)|192.30.255.121|:443... connected.\n",
            "HTTP request sent, awaiting response... 200 OK\n",
            "Length: unspecified [application/zip]\n",
            "Saving to: ‘/tmp/pawpularity_data.zip’\n",
            "\n",
            "/tmp/pawpularity_da     [            <=>     ] 984.17M  17.6MB/s    in 51s     \n",
            "\n",
            "2022-01-13 10:17:13 (19.4 MB/s) - ‘/tmp/pawpularity_data.zip’ saved [1031974136]\n",
            "\n"
          ]
        }
      ]
    },
    {
      "cell_type": "code",
      "execution_count": null,
      "id": "8ae10a3a",
      "metadata": {
        "id": "8ae10a3a"
      },
      "outputs": [],
      "source": [
        "# Import the CSV tables\n",
        "csv_train_data = pd.read_csv(\"/tmp/Fitgirls0011-main/petfinder-pawpularity-score/train.csv\")\n",
        "csv_test_data = pd.read_csv(\"/tmp/Fitgirls0011-main/petfinder-pawpularity-score/test.csv\")\n",
        "sample_submission = pd.read_csv(\"/tmp/Fitgirls0011-main/petfinder-pawpularity-score/sample_submission.csv\")\n",
        "csv_train_data.head()\n",
        "\n",
        "# Drop rows with missing values (if NaN values are in dataframe)\n",
        "# No missing values present, so no samples dropped\n",
        "csv_train_data.dropna()\n",
        "\n",
        "# Scale the pawpularity score to numbers between 0 and 1\n",
        "csv_train_data['Pawpularity'] = csv_train_data['Pawpularity'] / 100\n",
        "sample_submission['Pawpularity'] = sample_submission['Pawpularity'] / 100"
      ]
    },
    {
      "cell_type": "code",
      "source": [
        "csv_train_data.head()"
      ],
      "metadata": {
        "colab": {
          "base_uri": "https://localhost:8080/",
          "height": 250
        },
        "id": "SRYM1P29o8k1",
        "outputId": "a0292b4a-9873-4eb8-babd-4e3de0c41723"
      },
      "id": "SRYM1P29o8k1",
      "execution_count": null,
      "outputs": [
        {
          "output_type": "execute_result",
          "data": {
            "text/html": [
              "\n",
              "  <div id=\"df-c61ad024-0658-4d41-adc8-892d6324a946\">\n",
              "    <div class=\"colab-df-container\">\n",
              "      <div>\n",
              "<style scoped>\n",
              "    .dataframe tbody tr th:only-of-type {\n",
              "        vertical-align: middle;\n",
              "    }\n",
              "\n",
              "    .dataframe tbody tr th {\n",
              "        vertical-align: top;\n",
              "    }\n",
              "\n",
              "    .dataframe thead th {\n",
              "        text-align: right;\n",
              "    }\n",
              "</style>\n",
              "<table border=\"1\" class=\"dataframe\">\n",
              "  <thead>\n",
              "    <tr style=\"text-align: right;\">\n",
              "      <th></th>\n",
              "      <th>Id</th>\n",
              "      <th>Subject Focus</th>\n",
              "      <th>Eyes</th>\n",
              "      <th>Face</th>\n",
              "      <th>Near</th>\n",
              "      <th>Action</th>\n",
              "      <th>Accessory</th>\n",
              "      <th>Group</th>\n",
              "      <th>Collage</th>\n",
              "      <th>Human</th>\n",
              "      <th>Occlusion</th>\n",
              "      <th>Info</th>\n",
              "      <th>Blur</th>\n",
              "      <th>Pawpularity</th>\n",
              "    </tr>\n",
              "  </thead>\n",
              "  <tbody>\n",
              "    <tr>\n",
              "      <th>0</th>\n",
              "      <td>0007de18844b0dbbb5e1f607da0606e0</td>\n",
              "      <td>0</td>\n",
              "      <td>1</td>\n",
              "      <td>1</td>\n",
              "      <td>1</td>\n",
              "      <td>0</td>\n",
              "      <td>0</td>\n",
              "      <td>1</td>\n",
              "      <td>0</td>\n",
              "      <td>0</td>\n",
              "      <td>0</td>\n",
              "      <td>0</td>\n",
              "      <td>0</td>\n",
              "      <td>0.63</td>\n",
              "    </tr>\n",
              "    <tr>\n",
              "      <th>1</th>\n",
              "      <td>0009c66b9439883ba2750fb825e1d7db</td>\n",
              "      <td>0</td>\n",
              "      <td>1</td>\n",
              "      <td>1</td>\n",
              "      <td>0</td>\n",
              "      <td>0</td>\n",
              "      <td>0</td>\n",
              "      <td>0</td>\n",
              "      <td>0</td>\n",
              "      <td>0</td>\n",
              "      <td>0</td>\n",
              "      <td>0</td>\n",
              "      <td>0</td>\n",
              "      <td>0.42</td>\n",
              "    </tr>\n",
              "    <tr>\n",
              "      <th>2</th>\n",
              "      <td>0013fd999caf9a3efe1352ca1b0d937e</td>\n",
              "      <td>0</td>\n",
              "      <td>1</td>\n",
              "      <td>1</td>\n",
              "      <td>1</td>\n",
              "      <td>0</td>\n",
              "      <td>0</td>\n",
              "      <td>0</td>\n",
              "      <td>0</td>\n",
              "      <td>1</td>\n",
              "      <td>1</td>\n",
              "      <td>0</td>\n",
              "      <td>0</td>\n",
              "      <td>0.28</td>\n",
              "    </tr>\n",
              "    <tr>\n",
              "      <th>3</th>\n",
              "      <td>0018df346ac9c1d8413cfcc888ca8246</td>\n",
              "      <td>0</td>\n",
              "      <td>1</td>\n",
              "      <td>1</td>\n",
              "      <td>1</td>\n",
              "      <td>0</td>\n",
              "      <td>0</td>\n",
              "      <td>0</td>\n",
              "      <td>0</td>\n",
              "      <td>0</td>\n",
              "      <td>0</td>\n",
              "      <td>0</td>\n",
              "      <td>0</td>\n",
              "      <td>0.15</td>\n",
              "    </tr>\n",
              "    <tr>\n",
              "      <th>4</th>\n",
              "      <td>001dc955e10590d3ca4673f034feeef2</td>\n",
              "      <td>0</td>\n",
              "      <td>0</td>\n",
              "      <td>0</td>\n",
              "      <td>1</td>\n",
              "      <td>0</td>\n",
              "      <td>0</td>\n",
              "      <td>1</td>\n",
              "      <td>0</td>\n",
              "      <td>0</td>\n",
              "      <td>0</td>\n",
              "      <td>0</td>\n",
              "      <td>0</td>\n",
              "      <td>0.72</td>\n",
              "    </tr>\n",
              "  </tbody>\n",
              "</table>\n",
              "</div>\n",
              "      <button class=\"colab-df-convert\" onclick=\"convertToInteractive('df-c61ad024-0658-4d41-adc8-892d6324a946')\"\n",
              "              title=\"Convert this dataframe to an interactive table.\"\n",
              "              style=\"display:none;\">\n",
              "        \n",
              "  <svg xmlns=\"http://www.w3.org/2000/svg\" height=\"24px\"viewBox=\"0 0 24 24\"\n",
              "       width=\"24px\">\n",
              "    <path d=\"M0 0h24v24H0V0z\" fill=\"none\"/>\n",
              "    <path d=\"M18.56 5.44l.94 2.06.94-2.06 2.06-.94-2.06-.94-.94-2.06-.94 2.06-2.06.94zm-11 1L8.5 8.5l.94-2.06 2.06-.94-2.06-.94L8.5 2.5l-.94 2.06-2.06.94zm10 10l.94 2.06.94-2.06 2.06-.94-2.06-.94-.94-2.06-.94 2.06-2.06.94z\"/><path d=\"M17.41 7.96l-1.37-1.37c-.4-.4-.92-.59-1.43-.59-.52 0-1.04.2-1.43.59L10.3 9.45l-7.72 7.72c-.78.78-.78 2.05 0 2.83L4 21.41c.39.39.9.59 1.41.59.51 0 1.02-.2 1.41-.59l7.78-7.78 2.81-2.81c.8-.78.8-2.07 0-2.86zM5.41 20L4 18.59l7.72-7.72 1.47 1.35L5.41 20z\"/>\n",
              "  </svg>\n",
              "      </button>\n",
              "      \n",
              "  <style>\n",
              "    .colab-df-container {\n",
              "      display:flex;\n",
              "      flex-wrap:wrap;\n",
              "      gap: 12px;\n",
              "    }\n",
              "\n",
              "    .colab-df-convert {\n",
              "      background-color: #E8F0FE;\n",
              "      border: none;\n",
              "      border-radius: 50%;\n",
              "      cursor: pointer;\n",
              "      display: none;\n",
              "      fill: #1967D2;\n",
              "      height: 32px;\n",
              "      padding: 0 0 0 0;\n",
              "      width: 32px;\n",
              "    }\n",
              "\n",
              "    .colab-df-convert:hover {\n",
              "      background-color: #E2EBFA;\n",
              "      box-shadow: 0px 1px 2px rgba(60, 64, 67, 0.3), 0px 1px 3px 1px rgba(60, 64, 67, 0.15);\n",
              "      fill: #174EA6;\n",
              "    }\n",
              "\n",
              "    [theme=dark] .colab-df-convert {\n",
              "      background-color: #3B4455;\n",
              "      fill: #D2E3FC;\n",
              "    }\n",
              "\n",
              "    [theme=dark] .colab-df-convert:hover {\n",
              "      background-color: #434B5C;\n",
              "      box-shadow: 0px 1px 3px 1px rgba(0, 0, 0, 0.15);\n",
              "      filter: drop-shadow(0px 1px 2px rgba(0, 0, 0, 0.3));\n",
              "      fill: #FFFFFF;\n",
              "    }\n",
              "  </style>\n",
              "\n",
              "      <script>\n",
              "        const buttonEl =\n",
              "          document.querySelector('#df-c61ad024-0658-4d41-adc8-892d6324a946 button.colab-df-convert');\n",
              "        buttonEl.style.display =\n",
              "          google.colab.kernel.accessAllowed ? 'block' : 'none';\n",
              "\n",
              "        async function convertToInteractive(key) {\n",
              "          const element = document.querySelector('#df-c61ad024-0658-4d41-adc8-892d6324a946');\n",
              "          const dataTable =\n",
              "            await google.colab.kernel.invokeFunction('convertToInteractive',\n",
              "                                                     [key], {});\n",
              "          if (!dataTable) return;\n",
              "\n",
              "          const docLinkHtml = 'Like what you see? Visit the ' +\n",
              "            '<a target=\"_blank\" href=https://colab.research.google.com/notebooks/data_table.ipynb>data table notebook</a>'\n",
              "            + ' to learn more about interactive tables.';\n",
              "          element.innerHTML = '';\n",
              "          dataTable['output_type'] = 'display_data';\n",
              "          await google.colab.output.renderOutput(dataTable, element);\n",
              "          const docLink = document.createElement('div');\n",
              "          docLink.innerHTML = docLinkHtml;\n",
              "          element.appendChild(docLink);\n",
              "        }\n",
              "      </script>\n",
              "    </div>\n",
              "  </div>\n",
              "  "
            ],
            "text/plain": [
              "                                 Id  Subject Focus  ...  Blur  Pawpularity\n",
              "0  0007de18844b0dbbb5e1f607da0606e0              0  ...     0         0.63\n",
              "1  0009c66b9439883ba2750fb825e1d7db              0  ...     0         0.42\n",
              "2  0013fd999caf9a3efe1352ca1b0d937e              0  ...     0         0.28\n",
              "3  0018df346ac9c1d8413cfcc888ca8246              0  ...     0         0.15\n",
              "4  001dc955e10590d3ca4673f034feeef2              0  ...     0         0.72\n",
              "\n",
              "[5 rows x 14 columns]"
            ]
          },
          "metadata": {},
          "execution_count": 74
        }
      ]
    },
    {
      "cell_type": "markdown",
      "id": "5eccde6f",
      "metadata": {
        "id": "5eccde6f"
      },
      "source": [
        "# Import image data\n"
      ]
    },
    {
      "cell_type": "code",
      "execution_count": null,
      "id": "6a8970b3",
      "metadata": {
        "id": "6a8970b3"
      },
      "outputs": [],
      "source": [
        "def reshape_images(path, n):\n",
        "    \"\"\"\n",
        "    This function returns a list of images, which are reshaped to 64 x 64 \n",
        "    and a list with the names of the images.\n",
        "    \"\"\"\n",
        "    # Set the current path\n",
        "    chdir(path)\n",
        "    \n",
        "    # Preset the lists\n",
        "    images = []\n",
        "    image_names = []\n",
        "    \n",
        "    # Go over all the files in the path\n",
        "    for i in listdir():\n",
        "        \n",
        "        # Get the name of the image, without .jpg\n",
        "        image_names.append(i[:-4])\n",
        "        \n",
        "        # Get the image and reshape to n x n\n",
        "        file = cv2.imread(i)\n",
        "        file = cv2.resize(file,(n, n), interpolation=cv2.INTER_AREA)\n",
        "        \n",
        "        # Rescale the pixels and store in the list\n",
        "        images.append(file/255)\n",
        "        \n",
        "    return images, image_names\n",
        "\n",
        "# Reshape train and test images\n",
        "train_imgs, train_names = reshape_images(\"/tmp/Fitgirls0011-main/petfinder-pawpularity-score/train\", 64)\n",
        "test_imgs, test_names = reshape_images(\"/tmp/Fitgirls0011-main/petfinder-pawpularity-score/test\", 64)"
      ]
    },
    {
      "cell_type": "code",
      "execution_count": null,
      "id": "2bcac655",
      "metadata": {
        "id": "2bcac655"
      },
      "outputs": [],
      "source": [
        "# Make numpy arrays of images\n",
        "train_imgs_array = np.array(train_imgs)\n",
        "test_imgs_array = np.array(test_imgs)"
      ]
    },
    {
      "cell_type": "markdown",
      "id": "8b818ae9",
      "metadata": {
        "id": "8b818ae9"
      },
      "source": [
        "# Combine tabular data with images"
      ]
    },
    {
      "cell_type": "code",
      "execution_count": null,
      "id": "85185f99",
      "metadata": {
        "id": "85185f99"
      },
      "outputs": [],
      "source": [
        "def sort_dataframe(data, images, names):\n",
        "    \"\"\"\n",
        "    This function sorts the dataframe of the csv data according to the image names.\n",
        "    \"\"\"\n",
        "    data_sorted = pd.DataFrame()\n",
        "\n",
        "    # Iterate over images and get index of each image\n",
        "    for img, name in zip(images, names):\n",
        "        location = data[data['Id'] == name].index[0]\n",
        "\n",
        "        # Sort dataframe according to index of images\n",
        "        data_sorted = data_sorted.append([data.loc[location]])\n",
        "        \n",
        "    return data_sorted\n",
        "\n",
        "# Sort training and testing data\n",
        "train_data_sorted = sort_dataframe(csv_train_data, train_imgs, train_names)\n",
        "test_data_sorted = sort_dataframe(csv_test_data, test_imgs, test_names)\n",
        "sample_submission_sorted = sort_dataframe(sample_submission, test_imgs, test_names)"
      ]
    },
    {
      "cell_type": "markdown",
      "id": "e9206b4b",
      "metadata": {
        "id": "e9206b4b"
      },
      "source": [
        "# Processing tabular data"
      ]
    },
    {
      "cell_type": "code",
      "execution_count": null,
      "id": "14a824c4",
      "metadata": {
        "id": "14a824c4"
      },
      "outputs": [],
      "source": [
        "# Select x-values (the 12 input features) from training data\n",
        "x_train_tabular = train_data_sorted.iloc[:,1:13].to_numpy()\n",
        "\n",
        "# Select y-values (pawpularity) from training data\n",
        "y_train = train_data_sorted.iloc[:,13].to_numpy()\n",
        "\n",
        "# Select x-values (12 input features) from testing data\n",
        "x_test_tabular = test_data_sorted.iloc[:,1:13].to_numpy()\n",
        "\n",
        "# Select y-values (pawpularity) from testing data\n",
        "y_test = sample_submission_sorted.iloc[:,1].to_numpy()"
      ]
    },
    {
      "cell_type": "code",
      "execution_count": null,
      "id": "ccf1cb99",
      "metadata": {
        "colab": {
          "base_uri": "https://localhost:8080/"
        },
        "id": "ccf1cb99",
        "outputId": "005b6d84-80bc-442c-8e60-40a532b2eb92"
      },
      "outputs": [
        {
          "output_type": "stream",
          "name": "stdout",
          "text": [
            "Model: \"sequential_15\"\n",
            "_________________________________________________________________\n",
            " Layer (type)                Output Shape              Param #   \n",
            "=================================================================\n",
            " dense_60 (Dense)            (None, 100)               1300      \n",
            "                                                                 \n",
            " dense_61 (Dense)            (None, 100)               10100     \n",
            "                                                                 \n",
            " dense_62 (Dense)            (None, 1)                 101       \n",
            "                                                                 \n",
            "=================================================================\n",
            "Total params: 11,501\n",
            "Trainable params: 11,501\n",
            "Non-trainable params: 0\n",
            "_________________________________________________________________\n"
          ]
        }
      ],
      "source": [
        "def build_neural_net(input_size, hidden_nodes):\n",
        "    \"\"\"\n",
        "    Build neural network with an input size and a hidden layer with a number of \n",
        "    hidden nodes.\n",
        "    \"\"\"\n",
        "    # Create a sequential model object\n",
        "    model = models.Sequential()\n",
        "\n",
        "    # Create a hidden layer with relu activations\n",
        "    model.add(layers.Dense(units=hidden_nodes, activation='relu', input_shape=(input_size,)))\n",
        "    \n",
        "    # Create a hidden layer with relu activations\n",
        "    model.add(layers.Dense(units=hidden_nodes, activation='relu'))\n",
        "\n",
        "    # Create the output layer with 1 regression output unit\n",
        "    model.add(layers.Dense(units=1))\n",
        "    \n",
        "    return model\n",
        "\n",
        "# Create neural network for tabular data and get summary of model \n",
        "# with 12 inputs and 100 hidden nodes\n",
        "tabular_NN = build_neural_net(12, 100)\n",
        "tabular_NN.summary()"
      ]
    },
    {
      "cell_type": "code",
      "execution_count": null,
      "id": "bd18b2f9",
      "metadata": {
        "id": "bd18b2f9"
      },
      "outputs": [],
      "source": [
        "def build_convol_net(image_size, hidden_nodes):\n",
        "    \"\"\"\n",
        "    Build neural network with an input size and a hidden layer with a number \n",
        "    of hidden nodes.\n",
        "    \"\"\"\n",
        "    # Create a sequential model object\n",
        "    model = models.Sequential()\n",
        "    \n",
        "    # Create a convolutional layer with relu activation\n",
        "    model.add(layers.Conv2D(filters=64, kernel_size=(3,3), activation='relu', input_shape=image_size, padding='same'))\n",
        "    \n",
        "    # Create a maxpool layer\n",
        "    model.add(layers.MaxPool2D(pool_size=(2,2), strides=2))\n",
        "    \n",
        "    # Create a convolutional layer with relu activation\n",
        "    model.add(layers.Conv2D(filters=128, kernel_size=(3,3), activation='relu', padding='same'))\n",
        "\n",
        "    # Create a maxpool layer\n",
        "    model.add(layers.MaxPool2D(pool_size=(2,2), strides=2))\n",
        "\n",
        "    # Create a convolutional layer with relu activation\n",
        "    model.add(layers.Conv2D(filters=256, kernel_size=(3,3), activation='relu', padding='same'))\n",
        "    \n",
        "    # Create a maxpool layer\n",
        "    model.add(layers.MaxPool2D(pool_size=(2,2), strides=2))\n",
        "    \n",
        "    # Create a flattening layer\n",
        "    model.add(layers.Flatten())\n",
        "\n",
        "    # Create a dense layer with relu activations\n",
        "    model.add(layers.Dense(units=hidden_nodes, activation='relu'))\n",
        "\n",
        "    # Create a dense layer with relu activations\n",
        "    model.add(layers.Dense(units=hidden_nodes, activation=\"relu\"))\n",
        "    \n",
        "    # Create the output layer with 1 sigmoid output unit\n",
        "    model.add(layers.Dense(units=1, activation='sigmoid'))\n",
        "    \n",
        "    return model"
      ]
    },
    {
      "cell_type": "code",
      "execution_count": null,
      "id": "7adc6959",
      "metadata": {
        "colab": {
          "base_uri": "https://localhost:8080/"
        },
        "id": "7adc6959",
        "outputId": "41c867ee-2c6f-4d86-f55b-52e5f3105849"
      },
      "outputs": [
        {
          "output_type": "stream",
          "name": "stdout",
          "text": [
            "Model: \"sequential_16\"\n",
            "_________________________________________________________________\n",
            " Layer (type)                Output Shape              Param #   \n",
            "=================================================================\n",
            " conv2d_23 (Conv2D)          (None, 64, 64, 64)        1792      \n",
            "                                                                 \n",
            " max_pooling2d_23 (MaxPoolin  (None, 32, 32, 64)       0         \n",
            " g2D)                                                            \n",
            "                                                                 \n",
            " conv2d_24 (Conv2D)          (None, 32, 32, 128)       73856     \n",
            "                                                                 \n",
            " max_pooling2d_24 (MaxPoolin  (None, 16, 16, 128)      0         \n",
            " g2D)                                                            \n",
            "                                                                 \n",
            " conv2d_25 (Conv2D)          (None, 16, 16, 256)       295168    \n",
            "                                                                 \n",
            " max_pooling2d_25 (MaxPoolin  (None, 8, 8, 256)        0         \n",
            " g2D)                                                            \n",
            "                                                                 \n",
            " flatten_10 (Flatten)        (None, 16384)             0         \n",
            "                                                                 \n",
            " dense_63 (Dense)            (None, 100)               1638500   \n",
            "                                                                 \n",
            " dense_64 (Dense)            (None, 100)               10100     \n",
            "                                                                 \n",
            " dense_65 (Dense)            (None, 1)                 101       \n",
            "                                                                 \n",
            "=================================================================\n",
            "Total params: 2,019,517\n",
            "Trainable params: 2,019,517\n",
            "Non-trainable params: 0\n",
            "_________________________________________________________________\n"
          ]
        }
      ],
      "source": [
        "# Create neural network for image data and get summary of model\n",
        "image_size = (64, 64, 3)\n",
        "image_NN = build_convol_net(image_size, hidden_nodes=100)\n",
        "image_NN.summary()"
      ]
    },
    {
      "cell_type": "markdown",
      "source": [
        "## Concatenate tabular and image data models"
      ],
      "metadata": {
        "id": "vtZpIRuAue4B"
      },
      "id": "vtZpIRuAue4B"
    },
    {
      "cell_type": "code",
      "execution_count": null,
      "id": "1441c455",
      "metadata": {
        "id": "1441c455"
      },
      "outputs": [],
      "source": [
        "def concatenate_models(model1, model2, hidden_nodes):\n",
        "    \"\"\"\n",
        "    Concatenate two neural network models, model1 and model2, and create\n",
        "    a concatenated model with dense layers with some hidden nodes.\n",
        "    \"\"\"\n",
        "    # Input for concatenated model is retrieved by concatenating the output\n",
        "    # of both models\n",
        "    concat_input = layers.concatenate([model1.output, model2.output])\n",
        "\n",
        "    # Create hidden layers of the concatenated model\n",
        "    hidden_layer_1 = layers.Dense(hidden_nodes, activation=\"relu\")(concat_input)\n",
        "    hidden_layer_2 = layers.Dense(hidden_nodes, activation=\"relu\")(hidden_layer_1)\n",
        "    output_layer = layers.Dense(1, activation=\"sigmoid\")(hidden_layer_2)\n",
        "\n",
        "    # Create concatenated model with inputs of both models and output of the\n",
        "    # concatenated model\n",
        "    concat_model = models.Model(inputs=[model1.input, model2.input], outputs=output_layer)\n",
        "\n",
        "    return concat_model"
      ]
    },
    {
      "cell_type": "code",
      "source": [
        "# Part of code from: https://www.tensorflow.org/tutorials/keras/regression\n",
        "\n",
        "# Concatenate tabular and image neural networks\n",
        "concat_model = concatenate_models(tabular_NN, image_NN, hidden_nodes=100)\n",
        "\n",
        "# Compile model and use mean squared error as loss\n",
        "concat_model.compile(loss=MeanSquaredError())\n",
        "\n",
        "# Train the model by fitting both tabular and image data at the same time\n",
        "history = concat_model.fit(x=[x_train_tabular, train_imgs_array], y=y_train, batch_size=20, epochs=40, validation_split=.1)\n",
        "\n",
        "# Store loss during training in DataFrame\n",
        "hist = pd.DataFrame(history.history)\n",
        "hist['epoch'] = history.epoch\n",
        "hist.tail()\n",
        "\n",
        "def plot_loss(history):\n",
        "    \"\"\"\n",
        "    Plot loss during epochs of training a neural network.\n",
        "    \"\"\"\n",
        "    plt.plot(history.history['loss'], label='loss')\n",
        "    plt.plot(history.history['val_loss'], label='val_loss')\n",
        "\n",
        "    plt.xlabel('Epoch')\n",
        "    plt.ylabel('Loss')\n",
        "    plt.legend()\n",
        "    plt.grid(True)\n",
        "\n",
        "# Plot loss during training of concatenated model\n",
        "plot_loss(history)\n",
        "\n",
        "# See how the model scored\n",
        "loss = concat_model.evaluate(x=[x_test_tabular, test_imgs_array], y=y_test)\n",
        "\n",
        "# Print to 3 decimals\n",
        "print(f'Test loss: {loss:.3}')"
      ],
      "metadata": {
        "colab": {
          "base_uri": "https://localhost:8080/",
          "height": 1000
        },
        "id": "DZ58i65PvawJ",
        "outputId": "86ebf6a2-f629-423b-d15a-cc09f44444cf"
      },
      "id": "DZ58i65PvawJ",
      "execution_count": null,
      "outputs": [
        {
          "output_type": "stream",
          "name": "stdout",
          "text": [
            "Epoch 1/40\n",
            "446/446 [==============================] - 5s 9ms/step - loss: 0.0432 - val_loss: 0.0410\n",
            "Epoch 2/40\n",
            "446/446 [==============================] - 4s 9ms/step - loss: 0.0428 - val_loss: 0.0410\n",
            "Epoch 3/40\n",
            "446/446 [==============================] - 4s 9ms/step - loss: 0.0426 - val_loss: 0.0409\n",
            "Epoch 4/40\n",
            "446/446 [==============================] - 4s 9ms/step - loss: 0.0426 - val_loss: 0.0416\n",
            "Epoch 5/40\n",
            "446/446 [==============================] - 4s 9ms/step - loss: 0.0425 - val_loss: 0.0410\n",
            "Epoch 6/40\n",
            "446/446 [==============================] - 4s 9ms/step - loss: 0.0425 - val_loss: 0.0409\n",
            "Epoch 7/40\n",
            "446/446 [==============================] - 4s 9ms/step - loss: 0.0425 - val_loss: 0.0410\n",
            "Epoch 8/40\n",
            "446/446 [==============================] - 4s 9ms/step - loss: 0.0425 - val_loss: 0.0414\n",
            "Epoch 9/40\n",
            "446/446 [==============================] - 4s 9ms/step - loss: 0.0425 - val_loss: 0.0410\n",
            "Epoch 10/40\n",
            "446/446 [==============================] - 4s 9ms/step - loss: 0.0424 - val_loss: 0.0411\n",
            "Epoch 11/40\n",
            "446/446 [==============================] - 4s 9ms/step - loss: 0.0425 - val_loss: 0.0409\n",
            "Epoch 12/40\n",
            "446/446 [==============================] - 4s 9ms/step - loss: 0.0424 - val_loss: 0.0408\n",
            "Epoch 13/40\n",
            "446/446 [==============================] - 4s 9ms/step - loss: 0.0423 - val_loss: 0.0410\n",
            "Epoch 14/40\n",
            "446/446 [==============================] - 4s 9ms/step - loss: 0.0424 - val_loss: 0.0412\n",
            "Epoch 15/40\n",
            "446/446 [==============================] - 4s 9ms/step - loss: 0.0424 - val_loss: 0.0409\n",
            "Epoch 16/40\n",
            "446/446 [==============================] - 4s 9ms/step - loss: 0.0424 - val_loss: 0.0409\n",
            "Epoch 17/40\n",
            "446/446 [==============================] - 4s 9ms/step - loss: 0.0423 - val_loss: 0.0408\n",
            "Epoch 18/40\n",
            "446/446 [==============================] - 4s 9ms/step - loss: 0.0424 - val_loss: 0.0410\n",
            "Epoch 19/40\n",
            "446/446 [==============================] - 4s 9ms/step - loss: 0.0423 - val_loss: 0.0407\n",
            "Epoch 20/40\n",
            "446/446 [==============================] - 4s 9ms/step - loss: 0.0423 - val_loss: 0.0410\n",
            "Epoch 21/40\n",
            "446/446 [==============================] - 4s 9ms/step - loss: 0.0423 - val_loss: 0.0410\n",
            "Epoch 22/40\n",
            "446/446 [==============================] - 4s 9ms/step - loss: 0.0423 - val_loss: 0.0410\n",
            "Epoch 23/40\n",
            "446/446 [==============================] - 4s 9ms/step - loss: 0.0423 - val_loss: 0.0409\n",
            "Epoch 24/40\n",
            "446/446 [==============================] - 4s 9ms/step - loss: 0.0423 - val_loss: 0.0408\n",
            "Epoch 25/40\n",
            "446/446 [==============================] - 4s 9ms/step - loss: 0.0423 - val_loss: 0.0408\n",
            "Epoch 26/40\n",
            "446/446 [==============================] - 4s 9ms/step - loss: 0.0422 - val_loss: 0.0408\n",
            "Epoch 27/40\n",
            "446/446 [==============================] - 4s 9ms/step - loss: 0.0422 - val_loss: 0.0421\n",
            "Epoch 28/40\n",
            "446/446 [==============================] - 4s 9ms/step - loss: 0.0423 - val_loss: 0.0409\n",
            "Epoch 29/40\n",
            "446/446 [==============================] - 4s 9ms/step - loss: 0.0423 - val_loss: 0.0408\n",
            "Epoch 30/40\n",
            "446/446 [==============================] - 4s 9ms/step - loss: 0.0422 - val_loss: 0.0413\n",
            "Epoch 31/40\n",
            "446/446 [==============================] - 4s 9ms/step - loss: 0.0422 - val_loss: 0.0410\n",
            "Epoch 32/40\n",
            "446/446 [==============================] - 4s 9ms/step - loss: 0.0422 - val_loss: 0.0409\n",
            "Epoch 33/40\n",
            "446/446 [==============================] - 4s 9ms/step - loss: 0.0422 - val_loss: 0.0408\n",
            "Epoch 34/40\n",
            "446/446 [==============================] - 4s 9ms/step - loss: 0.0422 - val_loss: 0.0409\n",
            "Epoch 35/40\n",
            "446/446 [==============================] - 4s 9ms/step - loss: 0.0422 - val_loss: 0.0409\n",
            "Epoch 36/40\n",
            "446/446 [==============================] - 4s 9ms/step - loss: 0.0422 - val_loss: 0.0409\n",
            "Epoch 37/40\n",
            "446/446 [==============================] - 4s 9ms/step - loss: 0.0422 - val_loss: 0.0410\n",
            "Epoch 38/40\n",
            "446/446 [==============================] - 4s 9ms/step - loss: 0.0422 - val_loss: 0.0413\n",
            "Epoch 39/40\n",
            "446/446 [==============================] - 4s 9ms/step - loss: 0.0422 - val_loss: 0.0409\n",
            "Epoch 40/40\n",
            "446/446 [==============================] - 4s 9ms/step - loss: 0.0422 - val_loss: 0.0410\n",
            "1/1 [==============================] - 0s 23ms/step - loss: 0.2272\n",
            "Test loss: 0.227\n"
          ]
        },
        {
          "output_type": "display_data",
          "data": {
            "image/png": "[encoded data removed]",
            "text/plain": [
              "<Figure size 432x288 with 1 Axes>"
            ]
          },
          "metadata": {
            "needs_background": "light"
          }
        }
      ]
    },
    {
      "cell_type": "code",
      "source": [
        ""
      ],
      "metadata": {
        "id": "9-K3Mgs8weVG"
      },
      "id": "9-K3Mgs8weVG",
      "execution_count": null,
      "outputs": []
    }
  ],
  "metadata": {
    "kernelspec": {
      "display_name": "Python 3 (ipykernel)",
      "language": "python",
      "name": "python3"
    },
    "language_info": {
      "codemirror_mode": {
        "name": "ipython",
        "version": 3
      },
      "file_extension": ".py",
      "mimetype": "text/x-python",
      "name": "python",
      "nbconvert_exporter": "python",
      "pygments_lexer": "ipython3",
      "version": "3.7.11"
    },
    "colab": {
      "name": "Milestone_1.ipynb",
      "provenance": [],
      "collapsed_sections": []
    },
    "accelerator": "GPU"
  },
  "nbformat": 4,
  "nbformat_minor": 5
}