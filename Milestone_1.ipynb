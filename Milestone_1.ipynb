{
  "cells": [
    {
      "cell_type": "markdown",
      "id": "0ae29a8e",
      "metadata": {
        "id": "0ae29a8e"
      },
      "source": [
        "# Import tabular data\n",
        "\n",
        "The tabular data is imported. This contains information on whether several elements are present in the image, such as blur, a human, a group, etc. Also the pawpularity score of the training data is in the table. For the test data only the image ID and the features are in the table. There is also a sample submission table, which contains the pawpularity score for the test data."
      ]
    },
    {
      "cell_type": "code",
      "source": [
        "import pandas as pd\n",
        "from os import chdir, listdir\n",
        "import zipfile\n",
        "import os\n",
        "\n",
        "\n",
        "import matplotlib.pyplot as plt\n",
        "import cv2\n",
        "import numpy as np\n",
        "\n",
        "import tensorflow as tf\n",
        "from tensorflow.keras import layers, models, preprocessing\n",
        "from tensorflow.keras.losses import MeanSquaredError\n"
      ],
      "metadata": {
        "id": "vRjBTUzjlmKA"
      },
      "id": "vRjBTUzjlmKA",
      "execution_count": 12,
      "outputs": []
    },
    {
      "cell_type": "code",
      "source": [
        "\n",
        "!wget --no-check-certificate \\\n",
        "    \"https://github.com/ilsefeenstra/Fitgirls0011/archive/refs/heads/main.zip\" \\\n",
        "    -O \"/tmp/pawpularity_data.zip\"\n",
        "\n",
        "zip_ref = zipfile.ZipFile('/tmp/pawpularity_data.zip', 'r') #Opens the zip file in read mode\n",
        "zip_ref.extractall('/tmp') #Extracts the files into the /tmp folder\n",
        "zip_ref.close()"
      ],
      "metadata": {
        "colab": {
          "base_uri": "https://localhost:8080/"
        },
        "id": "fANqjfPxoHI7",
        "outputId": "1b8b0670-c80e-490a-d2e7-abac01e071e3"
      },
      "id": "fANqjfPxoHI7",
      "execution_count": 2,
      "outputs": [
        {
          "output_type": "stream",
          "name": "stdout",
          "text": [
            "--2022-01-12 14:12:04--  https://github.com/ilsefeenstra/Fitgirls0011/archive/refs/heads/main.zip\n",
            "Resolving github.com (github.com)... 140.82.112.3\n",
            "Connecting to github.com (github.com)|140.82.112.3|:443... connected.\n",
            "HTTP request sent, awaiting response... 302 Found\n",
            "Location: https://codeload.github.com/ilsefeenstra/Fitgirls0011/zip/refs/heads/main [following]\n",
            "--2022-01-12 14:12:04--  https://codeload.github.com/ilsefeenstra/Fitgirls0011/zip/refs/heads/main\n",
            "Resolving codeload.github.com (codeload.github.com)... 140.82.113.10\n",
            "Connecting to codeload.github.com (codeload.github.com)|140.82.113.10|:443... connected.\n",
            "HTTP request sent, awaiting response... 200 OK\n",
            "Length: unspecified [application/zip]\n",
            "Saving to: ‘/tmp/pawpularity_data.zip’\n",
            "\n",
            "/tmp/pawpularity_da     [           <=>      ] 983.85M  21.9MB/s    in 46s     \n",
            "\n",
            "2022-01-12 14:12:50 (21.5 MB/s) - ‘/tmp/pawpularity_data.zip’ saved [1031643754]\n",
            "\n"
          ]
        }
      ]
    },
    {
      "cell_type": "code",
      "execution_count": 3,
      "id": "8ae10a3a",
      "metadata": {
        "id": "8ae10a3a"
      },
      "outputs": [],
      "source": [
        "# import the CSV tables\n",
        "csv_train_data = pd.read_csv(\"/tmp/Fitgirls0011-main/petfinder-pawpularity-score/train.csv\")\n",
        "csv_test_data = pd.read_csv(\"/tmp/Fitgirls0011-main/petfinder-pawpularity-score/test.csv\")\n",
        "sample_submission = pd.read_csv(\"/tmp/Fitgirls0011-main/petfinder-pawpularity-score/sample_submission.csv\")\n",
        "csv_train_data.head()\n",
        "\n",
        "# drop rows with missing values (if NaN values are in dataframe)\n",
        "# no missing values present, so no samples dropped\n",
        "csv_train_data.dropna()\n",
        "\n",
        "# scale the pawpularity score to numbers between 0 and 1\n",
        "csv_train_data['Pawpularity'] = csv_train_data['Pawpularity'] / 100\n",
        "sample_submission['Pawpularity'] = sample_submission['Pawpularity'] / 100"
      ]
    },
    {
      "cell_type": "code",
      "source": [
        "csv_train_data.head()"
      ],
      "metadata": {
        "colab": {
          "base_uri": "https://localhost:8080/",
          "height": 206
        },
        "id": "SRYM1P29o8k1",
        "outputId": "c7f0a827-d8e7-4959-e11c-bb321befbe7b"
      },
      "id": "SRYM1P29o8k1",
      "execution_count": 4,
      "outputs": [
        {
          "output_type": "execute_result",
          "data": {
            "text/html": [
              "\n",
              "  <div id=\"df-17771568-9315-4579-9f71-c18de3db9021\">\n",
              "    <div class=\"colab-df-container\">\n",
              "      <div>\n",
              "<style scoped>\n",
              "    .dataframe tbody tr th:only-of-type {\n",
              "        vertical-align: middle;\n",
              "    }\n",
              "\n",
              "    .dataframe tbody tr th {\n",
              "        vertical-align: top;\n",
              "    }\n",
              "\n",
              "    .dataframe thead th {\n",
              "        text-align: right;\n",
              "    }\n",
              "</style>\n",
              "<table border=\"1\" class=\"dataframe\">\n",
              "  <thead>\n",
              "    <tr style=\"text-align: right;\">\n",
              "      <th></th>\n",
              "      <th>Id</th>\n",
              "      <th>Subject Focus</th>\n",
              "      <th>Eyes</th>\n",
              "      <th>Face</th>\n",
              "      <th>Near</th>\n",
              "      <th>Action</th>\n",
              "      <th>Accessory</th>\n",
              "      <th>Group</th>\n",
              "      <th>Collage</th>\n",
              "      <th>Human</th>\n",
              "      <th>Occlusion</th>\n",
              "      <th>Info</th>\n",
              "      <th>Blur</th>\n",
              "      <th>Pawpularity</th>\n",
              "    </tr>\n",
              "  </thead>\n",
              "  <tbody>\n",
              "    <tr>\n",
              "      <th>0</th>\n",
              "      <td>0007de18844b0dbbb5e1f607da0606e0</td>\n",
              "      <td>0</td>\n",
              "      <td>1</td>\n",
              "      <td>1</td>\n",
              "      <td>1</td>\n",
              "      <td>0</td>\n",
              "      <td>0</td>\n",
              "      <td>1</td>\n",
              "      <td>0</td>\n",
              "      <td>0</td>\n",
              "      <td>0</td>\n",
              "      <td>0</td>\n",
              "      <td>0</td>\n",
              "      <td>0.63</td>\n",
              "    </tr>\n",
              "    <tr>\n",
              "      <th>1</th>\n",
              "      <td>0009c66b9439883ba2750fb825e1d7db</td>\n",
              "      <td>0</td>\n",
              "      <td>1</td>\n",
              "      <td>1</td>\n",
              "      <td>0</td>\n",
              "      <td>0</td>\n",
              "      <td>0</td>\n",
              "      <td>0</td>\n",
              "      <td>0</td>\n",
              "      <td>0</td>\n",
              "      <td>0</td>\n",
              "      <td>0</td>\n",
              "      <td>0</td>\n",
              "      <td>0.42</td>\n",
              "    </tr>\n",
              "    <tr>\n",
              "      <th>2</th>\n",
              "      <td>0013fd999caf9a3efe1352ca1b0d937e</td>\n",
              "      <td>0</td>\n",
              "      <td>1</td>\n",
              "      <td>1</td>\n",
              "      <td>1</td>\n",
              "      <td>0</td>\n",
              "      <td>0</td>\n",
              "      <td>0</td>\n",
              "      <td>0</td>\n",
              "      <td>1</td>\n",
              "      <td>1</td>\n",
              "      <td>0</td>\n",
              "      <td>0</td>\n",
              "      <td>0.28</td>\n",
              "    </tr>\n",
              "    <tr>\n",
              "      <th>3</th>\n",
              "      <td>0018df346ac9c1d8413cfcc888ca8246</td>\n",
              "      <td>0</td>\n",
              "      <td>1</td>\n",
              "      <td>1</td>\n",
              "      <td>1</td>\n",
              "      <td>0</td>\n",
              "      <td>0</td>\n",
              "      <td>0</td>\n",
              "      <td>0</td>\n",
              "      <td>0</td>\n",
              "      <td>0</td>\n",
              "      <td>0</td>\n",
              "      <td>0</td>\n",
              "      <td>0.15</td>\n",
              "    </tr>\n",
              "    <tr>\n",
              "      <th>4</th>\n",
              "      <td>001dc955e10590d3ca4673f034feeef2</td>\n",
              "      <td>0</td>\n",
              "      <td>0</td>\n",
              "      <td>0</td>\n",
              "      <td>1</td>\n",
              "      <td>0</td>\n",
              "      <td>0</td>\n",
              "      <td>1</td>\n",
              "      <td>0</td>\n",
              "      <td>0</td>\n",
              "      <td>0</td>\n",
              "      <td>0</td>\n",
              "      <td>0</td>\n",
              "      <td>0.72</td>\n",
              "    </tr>\n",
              "  </tbody>\n",
              "</table>\n",
              "</div>\n",
              "      <button class=\"colab-df-convert\" onclick=\"convertToInteractive('df-17771568-9315-4579-9f71-c18de3db9021')\"\n",
              "              title=\"Convert this dataframe to an interactive table.\"\n",
              "              style=\"display:none;\">\n",
              "        \n",
              "  <svg xmlns=\"http://www.w3.org/2000/svg\" height=\"24px\"viewBox=\"0 0 24 24\"\n",
              "       width=\"24px\">\n",
              "    <path d=\"M0 0h24v24H0V0z\" fill=\"none\"/>\n",
              "    <path d=\"M18.56 5.44l.94 2.06.94-2.06 2.06-.94-2.06-.94-.94-2.06-.94 2.06-2.06.94zm-11 1L8.5 8.5l.94-2.06 2.06-.94-2.06-.94L8.5 2.5l-.94 2.06-2.06.94zm10 10l.94 2.06.94-2.06 2.06-.94-2.06-.94-.94-2.06-.94 2.06-2.06.94z\"/><path d=\"M17.41 7.96l-1.37-1.37c-.4-.4-.92-.59-1.43-.59-.52 0-1.04.2-1.43.59L10.3 9.45l-7.72 7.72c-.78.78-.78 2.05 0 2.83L4 21.41c.39.39.9.59 1.41.59.51 0 1.02-.2 1.41-.59l7.78-7.78 2.81-2.81c.8-.78.8-2.07 0-2.86zM5.41 20L4 18.59l7.72-7.72 1.47 1.35L5.41 20z\"/>\n",
              "  </svg>\n",
              "      </button>\n",
              "      \n",
              "  <style>\n",
              "    .colab-df-container {\n",
              "      display:flex;\n",
              "      flex-wrap:wrap;\n",
              "      gap: 12px;\n",
              "    }\n",
              "\n",
              "    .colab-df-convert {\n",
              "      background-color: #E8F0FE;\n",
              "      border: none;\n",
              "      border-radius: 50%;\n",
              "      cursor: pointer;\n",
              "      display: none;\n",
              "      fill: #1967D2;\n",
              "      height: 32px;\n",
              "      padding: 0 0 0 0;\n",
              "      width: 32px;\n",
              "    }\n",
              "\n",
              "    .colab-df-convert:hover {\n",
              "      background-color: #E2EBFA;\n",
              "      box-shadow: 0px 1px 2px rgba(60, 64, 67, 0.3), 0px 1px 3px 1px rgba(60, 64, 67, 0.15);\n",
              "      fill: #174EA6;\n",
              "    }\n",
              "\n",
              "    [theme=dark] .colab-df-convert {\n",
              "      background-color: #3B4455;\n",
              "      fill: #D2E3FC;\n",
              "    }\n",
              "\n",
              "    [theme=dark] .colab-df-convert:hover {\n",
              "      background-color: #434B5C;\n",
              "      box-shadow: 0px 1px 3px 1px rgba(0, 0, 0, 0.15);\n",
              "      filter: drop-shadow(0px 1px 2px rgba(0, 0, 0, 0.3));\n",
              "      fill: #FFFFFF;\n",
              "    }\n",
              "  </style>\n",
              "\n",
              "      <script>\n",
              "        const buttonEl =\n",
              "          document.querySelector('#df-17771568-9315-4579-9f71-c18de3db9021 button.colab-df-convert');\n",
              "        buttonEl.style.display =\n",
              "          google.colab.kernel.accessAllowed ? 'block' : 'none';\n",
              "\n",
              "        async function convertToInteractive(key) {\n",
              "          const element = document.querySelector('#df-17771568-9315-4579-9f71-c18de3db9021');\n",
              "          const dataTable =\n",
              "            await google.colab.kernel.invokeFunction('convertToInteractive',\n",
              "                                                     [key], {});\n",
              "          if (!dataTable) return;\n",
              "\n",
              "          const docLinkHtml = 'Like what you see? Visit the ' +\n",
              "            '<a target=\"_blank\" href=https://colab.research.google.com/notebooks/data_table.ipynb>data table notebook</a>'\n",
              "            + ' to learn more about interactive tables.';\n",
              "          element.innerHTML = '';\n",
              "          dataTable['output_type'] = 'display_data';\n",
              "          await google.colab.output.renderOutput(dataTable, element);\n",
              "          const docLink = document.createElement('div');\n",
              "          docLink.innerHTML = docLinkHtml;\n",
              "          element.appendChild(docLink);\n",
              "        }\n",
              "      </script>\n",
              "    </div>\n",
              "  </div>\n",
              "  "
            ],
            "text/plain": [
              "                                 Id  Subject Focus  ...  Blur  Pawpularity\n",
              "0  0007de18844b0dbbb5e1f607da0606e0              0  ...     0         0.63\n",
              "1  0009c66b9439883ba2750fb825e1d7db              0  ...     0         0.42\n",
              "2  0013fd999caf9a3efe1352ca1b0d937e              0  ...     0         0.28\n",
              "3  0018df346ac9c1d8413cfcc888ca8246              0  ...     0         0.15\n",
              "4  001dc955e10590d3ca4673f034feeef2              0  ...     0         0.72\n",
              "\n",
              "[5 rows x 14 columns]"
            ]
          },
          "metadata": {},
          "execution_count": 4
        }
      ]
    },
    {
      "cell_type": "markdown",
      "id": "5eccde6f",
      "metadata": {
        "id": "5eccde6f"
      },
      "source": [
        "# Import image data\n"
      ]
    },
    {
      "cell_type": "code",
      "execution_count": 5,
      "id": "6a8970b3",
      "metadata": {
        "id": "6a8970b3"
      },
      "outputs": [],
      "source": [
        "def reshape_images(path, n):\n",
        "    \"\"\"\n",
        "    This function returns a list of images, which are reshaped to 64 x 64 \n",
        "    and a list with the names of the images.\n",
        "    \"\"\"\n",
        "    \n",
        "    # set the current path\n",
        "    chdir(path)\n",
        "    \n",
        "    # preset the lists\n",
        "    images = []\n",
        "    image_names = []\n",
        "    \n",
        "    # go over all the files in the path\n",
        "    for i in listdir():\n",
        "        \n",
        "        # get the name of the image, without .jpg\n",
        "        image_names.append(i[:-4])\n",
        "        \n",
        "        # get the image and reshape to n x n\n",
        "        file = cv2.imread(i)\n",
        "        file = cv2.resize(file,(n, n), interpolation=cv2.INTER_AREA)\n",
        "        \n",
        "        # rescale the pixels and store in the list\n",
        "        images.append(file/255)\n",
        "        \n",
        "    return images, image_names\n",
        "\n",
        "train_imgs, train_names = reshape_images(\"/tmp/Fitgirls0011-main/petfinder-pawpularity-score/train\", 64)\n",
        "test_imgs, test_names = reshape_images(\"/tmp/Fitgirls0011-main/petfinder-pawpularity-score/test\", 64)"
      ]
    },
    {
      "cell_type": "code",
      "execution_count": 15,
      "id": "2bcac655",
      "metadata": {
        "id": "2bcac655"
      },
      "outputs": [],
      "source": [
        "# make numpy array of images\n",
        "train_imgs_array = np.array(train_imgs)\n",
        "test_imgs_array = np.array(test_imgs)"
      ]
    },
    {
      "cell_type": "markdown",
      "id": "8b818ae9",
      "metadata": {
        "id": "8b818ae9"
      },
      "source": [
        "# Combine tabular data with images"
      ]
    },
    {
      "cell_type": "code",
      "execution_count": 6,
      "id": "85185f99",
      "metadata": {
        "id": "85185f99"
      },
      "outputs": [],
      "source": [
        "def merge_images(data, images, names):\n",
        "    \"\"\"\n",
        "    This function sorts the dataframe of the csv data according to the image names.\n",
        "    \"\"\"\n",
        "    \n",
        "    data_sorted = pd.DataFrame()\n",
        "\n",
        "    for img, name in zip(images, names):\n",
        "        location = data[data['Id'] == name].index[0]\n",
        "        data_sorted = data_sorted.append([data.loc[location]])\n",
        "        \n",
        "    return data_sorted\n",
        "\n",
        "train_data_sorted = merge_images(csv_train_data, train_imgs, train_names)\n",
        "test_data_sorted = merge_images(csv_test_data, test_imgs, test_names)\n",
        "sample_submission_sorted = merge_images(sample_submission, test_imgs, test_names)"
      ]
    },
    {
      "cell_type": "markdown",
      "id": "e9206b4b",
      "metadata": {
        "id": "e9206b4b"
      },
      "source": [
        "# Processing tabular data"
      ]
    },
    {
      "cell_type": "code",
      "execution_count": 7,
      "id": "14a824c4",
      "metadata": {
        "id": "14a824c4"
      },
      "outputs": [],
      "source": [
        "# Select x-values (the 12 input features) from training data\n",
        "x_train_tabular = train_data_sorted.iloc[:,1:13].to_numpy()\n",
        "\n",
        "# Select y-values (pawpularity) from training data\n",
        "y_train = train_data_sorted.iloc[:,13].to_numpy()\n",
        "\n",
        "# Select x-values (12 input features) from testing data\n",
        "x_test_tabular = test_data_sorted.iloc[:,1:13].to_numpy()\n",
        "\n",
        "# Select y-values (pawpularity) from testing data\n",
        "y_test = sample_submission_sorted.iloc[:,1].to_numpy()"
      ]
    },
    {
      "cell_type": "code",
      "execution_count": 8,
      "id": "ccf1cb99",
      "metadata": {
        "colab": {
          "base_uri": "https://localhost:8080/"
        },
        "id": "ccf1cb99",
        "outputId": "f3c35157-9bcc-455a-dac3-769afe0b8364"
      },
      "outputs": [
        {
          "output_type": "stream",
          "name": "stdout",
          "text": [
            "Model: \"sequential\"\n",
            "_________________________________________________________________\n",
            " Layer (type)                Output Shape              Param #   \n",
            "=================================================================\n",
            " dense (Dense)               (None, 20)                260       \n",
            "                                                                 \n",
            " dense_1 (Dense)             (None, 1)                 21        \n",
            "                                                                 \n",
            "=================================================================\n",
            "Total params: 281\n",
            "Trainable params: 281\n",
            "Non-trainable params: 0\n",
            "_________________________________________________________________\n"
          ]
        }
      ],
      "source": [
        "def build_neural_net(input_size, hidden_nodes):\n",
        "    \"\"\"\n",
        "    Build neural network with an input size and a hidden layer with a number of hidden nodes.\n",
        "    \"\"\"\n",
        "    # Create a sequential model object\n",
        "    model = models.Sequential()\n",
        "\n",
        "    # Create the hidden layer with relu activations\n",
        "    model.add(layers.Dense(units=hidden_nodes, activation='relu', input_shape=(input_size,)))\n",
        "    \n",
        "    # Create the output layer with 1 regression output unit\n",
        "    model.add(layers.Dense(units=1))\n",
        "    \n",
        "    # Compile the network with the appropriate loss function\n",
        "    model.compile(loss=MeanSquaredError())\n",
        "    \n",
        "    return model\n",
        "\n",
        "# Create neural network for tabular data and get summary of model\n",
        "tabular_NN = build_neural_net(12, 20)\n",
        "tabular_NN.summary()"
      ]
    },
    {
      "cell_type": "code",
      "execution_count": 9,
      "id": "b86a2721",
      "metadata": {
        "colab": {
          "base_uri": "https://localhost:8080/",
          "height": 1000
        },
        "id": "b86a2721",
        "outputId": "ea473ca9-4304-4392-fcb3-2397a0f05556"
      },
      "outputs": [
        {
          "output_type": "stream",
          "name": "stdout",
          "text": [
            "Epoch 1/20\n",
            "446/446 [==============================] - 3s 3ms/step - loss: 0.0500 - val_loss: 0.0443\n",
            "Epoch 2/20\n",
            "446/446 [==============================] - 1s 3ms/step - loss: 0.0436 - val_loss: 0.0437\n",
            "Epoch 3/20\n",
            "446/446 [==============================] - 1s 3ms/step - loss: 0.0432 - val_loss: 0.0435\n",
            "Epoch 4/20\n",
            "446/446 [==============================] - 1s 3ms/step - loss: 0.0430 - val_loss: 0.0435\n",
            "Epoch 5/20\n",
            "446/446 [==============================] - 1s 3ms/step - loss: 0.0428 - val_loss: 0.0436\n",
            "Epoch 6/20\n",
            "446/446 [==============================] - 1s 3ms/step - loss: 0.0428 - val_loss: 0.0430\n",
            "Epoch 7/20\n",
            "446/446 [==============================] - 1s 3ms/step - loss: 0.0427 - val_loss: 0.0429\n",
            "Epoch 8/20\n",
            "446/446 [==============================] - 1s 3ms/step - loss: 0.0426 - val_loss: 0.0426\n",
            "Epoch 9/20\n",
            "446/446 [==============================] - 1s 3ms/step - loss: 0.0425 - val_loss: 0.0428\n",
            "Epoch 10/20\n",
            "446/446 [==============================] - 1s 3ms/step - loss: 0.0426 - val_loss: 0.0430\n",
            "Epoch 11/20\n",
            "446/446 [==============================] - 1s 3ms/step - loss: 0.0425 - val_loss: 0.0427\n",
            "Epoch 12/20\n",
            "446/446 [==============================] - 1s 3ms/step - loss: 0.0424 - val_loss: 0.0433\n",
            "Epoch 13/20\n",
            "446/446 [==============================] - 1s 3ms/step - loss: 0.0425 - val_loss: 0.0428\n",
            "Epoch 14/20\n",
            "446/446 [==============================] - 1s 3ms/step - loss: 0.0424 - val_loss: 0.0439\n",
            "Epoch 15/20\n",
            "446/446 [==============================] - 1s 3ms/step - loss: 0.0425 - val_loss: 0.0428\n",
            "Epoch 16/20\n",
            "446/446 [==============================] - 1s 3ms/step - loss: 0.0424 - val_loss: 0.0431\n",
            "Epoch 17/20\n",
            "446/446 [==============================] - 1s 3ms/step - loss: 0.0424 - val_loss: 0.0433\n",
            "Epoch 18/20\n",
            "446/446 [==============================] - 1s 3ms/step - loss: 0.0424 - val_loss: 0.0430\n",
            "Epoch 19/20\n",
            "446/446 [==============================] - 1s 3ms/step - loss: 0.0424 - val_loss: 0.0430\n",
            "Epoch 20/20\n",
            "446/446 [==============================] - 1s 3ms/step - loss: 0.0423 - val_loss: 0.0429\n",
            "1/1 [==============================] - 0s 26ms/step - loss: 0.2402\n",
            "Test loss: 0.24\n"
          ]
        },
        {
          "output_type": "display_data",
          "data": {
            "image/png": "[encoded data removed]",
            "text/plain": [
              "<Figure size 432x288 with 1 Axes>"
            ]
          },
          "metadata": {
            "needs_background": "light"
          }
        }
      ],
      "source": [
        "# Part of code from: https://www.tensorflow.org/tutorials/keras/regression\n",
        "\n",
        "# Train our model\n",
        "history = tabular_NN.fit(x_train_tabular, y_train, batch_size=20, epochs=20, validation_split=.1)\n",
        "\n",
        "# Store loss during training in DataFrame\n",
        "hist = pd.DataFrame(history.history)\n",
        "hist['epoch'] = history.epoch\n",
        "hist.tail()\n",
        "\n",
        "def plot_loss(history):\n",
        "    \"\"\"\n",
        "    Plot loss during epochs of training a neural network.\n",
        "    \"\"\"\n",
        "    plt.plot(history.history['loss'], label='loss')\n",
        "    plt.plot(history.history['val_loss'], label='val_loss')\n",
        "    plt.xlabel('Epoch')\n",
        "    plt.ylabel('Loss')\n",
        "    plt.legend()\n",
        "    plt.grid(True)\n",
        "\n",
        "plot_loss(history)\n",
        "\n",
        "# See how the model scored\n",
        "loss = tabular_NN.evaluate(x_test_tabular, y_test)\n",
        "\n",
        "# Print to 3 decimals\n",
        "print(f'Test loss: {loss:.3}')"
      ]
    },
    {
      "cell_type": "code",
      "execution_count": null,
      "id": "acf887c1",
      "metadata": {
        "id": "acf887c1"
      },
      "outputs": [],
      "source": [
        "# # create new numpy arrays of sorted pawpularity scores\n",
        "# y_train_image = train_data_sorted['Pawpularity'].to_numpy()\n",
        "\n",
        "# y_test_image = sample_submission_sorted['Pawpularity'].to_numpy()\n"
      ]
    },
    {
      "cell_type": "code",
      "execution_count": 10,
      "id": "bd18b2f9",
      "metadata": {
        "id": "bd18b2f9"
      },
      "outputs": [],
      "source": [
        "def build_convol_net(image_size, hidden_nodes):\n",
        "    \"\"\"\n",
        "    Build neural network with an input size and a hidden layer with a number of hidden nodes.\n",
        "    \"\"\"\n",
        "    # Create a sequential model object\n",
        "    model = models.Sequential()\n",
        "    \n",
        "    # Create convolutional layer 2 with relu activation\n",
        "    model.add(layers.Conv2D(filters = 64, kernel_size = (3,3), activation='relu', input_shape=image_size, padding='same'))\n",
        "    \n",
        "    # Create a maxpool layer\n",
        "    model.add(layers.MaxPool2D(pool_size=(2, 2), strides=2))\n",
        "    \n",
        "    # Create convolutional layer 2 with relu activation\n",
        "    model.add(layers.Conv2D(filters = 128, kernel_size = (3,3), activation='relu', input_shape=image_size, padding='same'))\n",
        "\n",
        "    # Create a maxpool layer\n",
        "    model.add(layers.MaxPool2D(pool_size=(2, 2), strides=2))\n",
        "    \n",
        "    # Create a flattening layer\n",
        "    model.add(layers.Flatten())\n",
        "\n",
        "    # Create the hidden layer with relu activations\n",
        "    model.add(layers.Dense(units=hidden_nodes, activation='relu', input_shape=(image_size,)))\n",
        "    \n",
        "    # Create the output layer with 1 sigmoid output unit\n",
        "    model.add(layers.Dense(units=1, activation='sigmoid'))\n",
        "    \n",
        "    # Compile the network with the appropriate loss function\n",
        "    model.compile(loss='mse', metrics=[tf.keras.metrics.RootMeanSquaredError()])\n",
        "    \n",
        "    return model"
      ]
    },
    {
      "cell_type": "code",
      "execution_count": 13,
      "id": "29916ff6",
      "metadata": {
        "colab": {
          "base_uri": "https://localhost:8080/"
        },
        "id": "29916ff6",
        "outputId": "4917a94d-b751-425c-c397-0315e6723563"
      },
      "outputs": [
        {
          "output_type": "stream",
          "name": "stdout",
          "text": [
            "Model: \"sequential_2\"\n",
            "_________________________________________________________________\n",
            " Layer (type)                Output Shape              Param #   \n",
            "=================================================================\n",
            " conv2d_2 (Conv2D)           (None, 64, 64, 64)        1792      \n",
            "                                                                 \n",
            " max_pooling2d_2 (MaxPooling  (None, 32, 32, 64)       0         \n",
            " 2D)                                                             \n",
            "                                                                 \n",
            " conv2d_3 (Conv2D)           (None, 32, 32, 128)       73856     \n",
            "                                                                 \n",
            " max_pooling2d_3 (MaxPooling  (None, 16, 16, 128)      0         \n",
            " 2D)                                                             \n",
            "                                                                 \n",
            " flatten_1 (Flatten)         (None, 32768)             0         \n",
            "                                                                 \n",
            " dense_4 (Dense)             (None, 20)                655380    \n",
            "                                                                 \n",
            " dense_5 (Dense)             (None, 1)                 21        \n",
            "                                                                 \n",
            "=================================================================\n",
            "Total params: 731,049\n",
            "Trainable params: 731,049\n",
            "Non-trainable params: 0\n",
            "_________________________________________________________________\n"
          ]
        }
      ],
      "source": [
        "# Create neural network for image data and get summary of model\n",
        "image_size = (64, 64, 3)\n",
        "image_NN = build_convol_net(image_size, 20)\n",
        "image_NN.summary()"
      ]
    },
    {
      "cell_type": "code",
      "execution_count": null,
      "id": "83a956e3",
      "metadata": {
        "id": "83a956e3",
        "outputId": "c3240474-6330-47bc-bb35-a741a526b690"
      },
      "outputs": [
        {
          "name": "stdout",
          "output_type": "stream",
          "text": [
            "Model: \"sequential_17\"\n",
            "_________________________________________________________________\n",
            "Layer (type)                 Output Shape              Param #   \n",
            "=================================================================\n",
            "conv2d_9 (Conv2D)            (None, 62, 62, 64)        1792      \n",
            "_________________________________________________________________\n",
            "max_pooling2d_9 (MaxPooling2 (None, 31, 31, 64)        0         \n",
            "_________________________________________________________________\n",
            "conv2d_10 (Conv2D)           (None, 29, 29, 128)       73856     \n",
            "_________________________________________________________________\n",
            "max_pooling2d_10 (MaxPooling (None, 14, 14, 128)       0         \n",
            "_________________________________________________________________\n",
            "flatten_9 (Flatten)          (None, 25088)             0         \n",
            "_________________________________________________________________\n",
            "dense_27 (Dense)             (None, 20)                501780    \n",
            "_________________________________________________________________\n",
            "dense_28 (Dense)             (None, 1)                 21        \n",
            "=================================================================\n",
            "Total params: 577,449\n",
            "Trainable params: 577,449\n",
            "Non-trainable params: 0\n",
            "_________________________________________________________________\n",
            "Train on 8920 samples, validate on 992 samples\n",
            "Epoch 1/20\n",
            "8920/8920 [==============================] - 90s 10ms/sample - loss: 491.7855 - val_loss: 429.4654\n",
            "Epoch 2/20\n",
            "8920/8920 [==============================] - 86s 10ms/sample - loss: 450.2802 - val_loss: 427.2700\n",
            "Epoch 3/20\n",
            "8920/8920 [==============================] - 92s 10ms/sample - loss: 441.5026 - val_loss: 415.0443\n",
            "Epoch 4/20\n",
            "8920/8920 [==============================] - 89s 10ms/sample - loss: 435.7595 - val_loss: 418.1311\n",
            "Epoch 5/20\n",
            "8920/8920 [==============================] - 91s 10ms/sample - loss: 430.8906 - val_loss: 432.8118\n",
            "Epoch 6/20\n",
            "8920/8920 [==============================] - 89s 10ms/sample - loss: 427.8086 - val_loss: 417.9876\n",
            "Epoch 7/20\n",
            "8920/8920 [==============================] - 90s 10ms/sample - loss: 423.3747 - val_loss: 430.4310\n",
            "Epoch 8/20\n",
            "8920/8920 [==============================] - 100s 11ms/sample - loss: 418.8776 - val_loss: 423.3726\n",
            "Epoch 9/20\n",
            "8920/8920 [==============================] - 94s 10ms/sample - loss: 414.6316 - val_loss: 418.5332\n",
            "Epoch 10/20\n",
            "8920/8920 [==============================] - 98s 11ms/sample - loss: 406.2126 - val_loss: 422.7803\n",
            "Epoch 11/20\n",
            "8920/8920 [==============================] - 97s 11ms/sample - loss: 401.6907 - val_loss: 444.1448\n",
            "Epoch 12/20\n",
            "8920/8920 [==============================] - 92s 10ms/sample - loss: 391.1785 - val_loss: 434.2291\n",
            "Epoch 13/20\n",
            "8920/8920 [==============================] - 85s 10ms/sample - loss: 382.2178 - val_loss: 435.5171\n",
            "Epoch 14/20\n",
            "8920/8920 [==============================] - 87s 10ms/sample - loss: 372.1032 - val_loss: 483.4874\n",
            "Epoch 15/20\n",
            "8920/8920 [==============================] - 92s 10ms/sample - loss: 356.5329 - val_loss: 472.6775\n",
            "Epoch 16/20\n",
            "8920/8920 [==============================] - 88s 10ms/sample - loss: 341.5138 - val_loss: 467.7409\n",
            "Epoch 17/20\n",
            "8920/8920 [==============================] - 91s 10ms/sample - loss: 323.4107 - val_loss: 466.3900\n",
            "Epoch 18/20\n",
            "8920/8920 [==============================] - 93s 10ms/sample - loss: 301.7656 - val_loss: 486.4626\n",
            "Epoch 19/20\n",
            "8920/8920 [==============================] - 88s 10ms/sample - loss: 282.6814 - val_loss: 514.8198\n",
            "Epoch 20/20\n",
            "8920/8920 [==============================] - 92s 10ms/sample - loss: 264.0103 - val_loss: 561.1338\n",
            "8/8 [==============================] - 0s 14ms/sample - loss: 1044.1447\n",
            "Test loss: 1.04e+03\n"
          ]
        },
        {
          "data": {
            "image/png": "[encoded data removed]",
            "text/plain": [
              "<Figure size 432x288 with 1 Axes>"
            ]
          },
          "metadata": {
            "needs_background": "light"
          },
          "output_type": "display_data"
        }
      ],
      "source": [
        "# Part of code from: https://www.tensorflow.org/tutorials/keras/regression\n",
        "\n",
        "# Train our model\n",
        "history = image_NN.fit(train_imgs_array, y_train, batch_size=20, epochs=20, validation_split=.1)\n",
        "\n",
        "# Store loss during training in DataFrame\n",
        "hist = pd.DataFrame(history.history)\n",
        "hist['epoch'] = history.epoch\n",
        "hist.tail()\n",
        "\n",
        "def plot_loss(history):\n",
        "    \"\"\"\n",
        "    Plot loss during epochs of training a neural network.\n",
        "    \"\"\"\n",
        "    plt.plot(history.history['loss'], label='loss')\n",
        "    plt.plot(history.history['val_loss'], label='val_loss')\n",
        "    plt.xlabel('Epoch')\n",
        "    plt.ylabel('Loss')\n",
        "    plt.legend()\n",
        "    plt.grid(True)\n",
        "\n",
        "plot_loss(history)\n",
        "\n",
        "# See how the model scored\n",
        "loss = image_NN.evaluate(test_imgs_array, y_test)\n",
        "\n",
        "# Print to 3 decimals\n",
        "print(f'Test loss: {loss:.3}')"
      ]
    },
    {
      "cell_type": "code",
      "execution_count": 17,
      "id": "7adc6959",
      "metadata": {
        "colab": {
          "base_uri": "https://localhost:8080/",
          "height": 1000
        },
        "id": "7adc6959",
        "outputId": "8c11570c-3d3d-419a-ed2b-bb072507a8bf"
      },
      "outputs": [
        {
          "output_type": "stream",
          "name": "stdout",
          "text": [
            "Epoch 1/20\n",
            "310/310 [==============================] - 14s 20ms/step - loss: 0.1233 - root_mean_squared_error: 0.3511 - val_loss: 0.1108 - val_root_mean_squared_error: 0.3329\n",
            "Epoch 2/20\n",
            "310/310 [==============================] - 6s 18ms/step - loss: 0.0441 - root_mean_squared_error: 0.2100 - val_loss: 0.1207 - val_root_mean_squared_error: 0.3474\n",
            "Epoch 3/20\n",
            "310/310 [==============================] - 6s 18ms/step - loss: 0.0429 - root_mean_squared_error: 0.2070 - val_loss: 0.1179 - val_root_mean_squared_error: 0.3434\n",
            "Epoch 4/20\n",
            "310/310 [==============================] - 6s 18ms/step - loss: 0.0411 - root_mean_squared_error: 0.2028 - val_loss: 0.1280 - val_root_mean_squared_error: 0.3578\n",
            "Epoch 5/20\n",
            "310/310 [==============================] - 5s 18ms/step - loss: 0.0390 - root_mean_squared_error: 0.1974 - val_loss: 0.1068 - val_root_mean_squared_error: 0.3268\n",
            "Epoch 6/20\n",
            "310/310 [==============================] - 6s 18ms/step - loss: 0.0369 - root_mean_squared_error: 0.1921 - val_loss: 0.1183 - val_root_mean_squared_error: 0.3439\n",
            "Epoch 7/20\n",
            "310/310 [==============================] - 6s 18ms/step - loss: 0.0342 - root_mean_squared_error: 0.1849 - val_loss: 0.1137 - val_root_mean_squared_error: 0.3372\n",
            "Epoch 8/20\n",
            "310/310 [==============================] - 6s 18ms/step - loss: 0.0311 - root_mean_squared_error: 0.1764 - val_loss: 0.1107 - val_root_mean_squared_error: 0.3328\n",
            "Epoch 9/20\n",
            "310/310 [==============================] - 6s 18ms/step - loss: 0.0279 - root_mean_squared_error: 0.1669 - val_loss: 0.1120 - val_root_mean_squared_error: 0.3347\n",
            "Epoch 10/20\n",
            "310/310 [==============================] - 6s 18ms/step - loss: 0.0243 - root_mean_squared_error: 0.1558 - val_loss: 0.1015 - val_root_mean_squared_error: 0.3186\n",
            "Epoch 11/20\n",
            "310/310 [==============================] - 6s 18ms/step - loss: 0.0210 - root_mean_squared_error: 0.1449 - val_loss: 0.1089 - val_root_mean_squared_error: 0.3300\n",
            "Epoch 12/20\n",
            "310/310 [==============================] - 6s 18ms/step - loss: 0.0178 - root_mean_squared_error: 0.1335 - val_loss: 0.1084 - val_root_mean_squared_error: 0.3292\n",
            "Epoch 13/20\n",
            "310/310 [==============================] - 5s 18ms/step - loss: 0.0154 - root_mean_squared_error: 0.1239 - val_loss: 0.0950 - val_root_mean_squared_error: 0.3082\n",
            "Epoch 14/20\n",
            "310/310 [==============================] - 6s 18ms/step - loss: 0.0135 - root_mean_squared_error: 0.1162 - val_loss: 0.1250 - val_root_mean_squared_error: 0.3536\n",
            "Epoch 15/20\n",
            "310/310 [==============================] - 6s 18ms/step - loss: 0.0119 - root_mean_squared_error: 0.1090 - val_loss: 0.1216 - val_root_mean_squared_error: 0.3487\n",
            "Epoch 16/20\n",
            "310/310 [==============================] - 6s 18ms/step - loss: 0.0107 - root_mean_squared_error: 0.1033 - val_loss: 0.1233 - val_root_mean_squared_error: 0.3512\n",
            "Epoch 17/20\n",
            "310/310 [==============================] - 6s 18ms/step - loss: 0.0097 - root_mean_squared_error: 0.0983 - val_loss: 0.1099 - val_root_mean_squared_error: 0.3314\n",
            "Epoch 18/20\n",
            "310/310 [==============================] - 6s 18ms/step - loss: 0.0089 - root_mean_squared_error: 0.0941 - val_loss: 0.1120 - val_root_mean_squared_error: 0.3346\n",
            "Epoch 19/20\n",
            "310/310 [==============================] - 6s 18ms/step - loss: 0.0083 - root_mean_squared_error: 0.0913 - val_loss: 0.1282 - val_root_mean_squared_error: 0.3580\n",
            "Epoch 20/20\n",
            "310/310 [==============================] - 6s 18ms/step - loss: 0.0077 - root_mean_squared_error: 0.0876 - val_loss: 0.1128 - val_root_mean_squared_error: 0.3359\n"
          ]
        },
        {
          "output_type": "error",
          "ename": "KeyError",
          "evalue": "ignored",
          "traceback": [
            "\u001b[0;31m---------------------------------------------------------------------------\u001b[0m",
            "\u001b[0;31mKeyError\u001b[0m                                  Traceback (most recent call last)",
            "\u001b[0;32m<ipython-input-17-8c6d1e116601>\u001b[0m in \u001b[0;36m<module>\u001b[0;34m()\u001b[0m\n\u001b[1;32m     30\u001b[0m \u001b[0;34m\u001b[0m\u001b[0m\n\u001b[1;32m     31\u001b[0m train_and_evaluate(image_NN, train_imgs_array, y_train_tabular, test_imgs_array, y_test_tabular,\n\u001b[0;32m---> 32\u001b[0;31m                   preprocess = {'featurewise_center': True, 'featurewise_std_normalization': True})\n\u001b[0m",
            "\u001b[0;32m<ipython-input-17-8c6d1e116601>\u001b[0m in \u001b[0;36mtrain_and_evaluate\u001b[0;34m(model, train_x, train_y, val_x, val_y, preprocess, epochs, augment)\u001b[0m\n\u001b[1;32m     17\u001b[0m \u001b[0;34m\u001b[0m\u001b[0m\n\u001b[1;32m     18\u001b[0m     \u001b[0;32mfor\u001b[0m \u001b[0mi\u001b[0m\u001b[0;34m,\u001b[0m \u001b[0mmetric\u001b[0m \u001b[0;32min\u001b[0m \u001b[0menumerate\u001b[0m\u001b[0;34m(\u001b[0m\u001b[0;34m[\u001b[0m\u001b[0;34m'loss'\u001b[0m\u001b[0;34m,\u001b[0m \u001b[0mtf\u001b[0m\u001b[0;34m.\u001b[0m\u001b[0mkeras\u001b[0m\u001b[0;34m.\u001b[0m\u001b[0mmetrics\u001b[0m\u001b[0;34m.\u001b[0m\u001b[0mRootMeanSquaredError\u001b[0m\u001b[0;34m(\u001b[0m\u001b[0;34m)\u001b[0m\u001b[0;34m]\u001b[0m\u001b[0;34m)\u001b[0m\u001b[0;34m:\u001b[0m\u001b[0;34m\u001b[0m\u001b[0;34m\u001b[0m\u001b[0m\n\u001b[0;32m---> 19\u001b[0;31m         \u001b[0maxs\u001b[0m\u001b[0;34m[\u001b[0m\u001b[0mi\u001b[0m\u001b[0;34m]\u001b[0m\u001b[0;34m.\u001b[0m\u001b[0mplot\u001b[0m\u001b[0;34m(\u001b[0m\u001b[0mhistory\u001b[0m\u001b[0;34m.\u001b[0m\u001b[0mhistory\u001b[0m\u001b[0;34m[\u001b[0m\u001b[0mmetric\u001b[0m\u001b[0;34m]\u001b[0m\u001b[0;34m)\u001b[0m\u001b[0;34m\u001b[0m\u001b[0;34m\u001b[0m\u001b[0m\n\u001b[0m\u001b[1;32m     20\u001b[0m         \u001b[0maxs\u001b[0m\u001b[0;34m[\u001b[0m\u001b[0mi\u001b[0m\u001b[0;34m]\u001b[0m\u001b[0;34m.\u001b[0m\u001b[0mplot\u001b[0m\u001b[0;34m(\u001b[0m\u001b[0mhistory\u001b[0m\u001b[0;34m.\u001b[0m\u001b[0mhistory\u001b[0m\u001b[0;34m[\u001b[0m\u001b[0;34m'val_'\u001b[0m\u001b[0;34m+\u001b[0m\u001b[0mmetric\u001b[0m\u001b[0;34m]\u001b[0m\u001b[0;34m)\u001b[0m\u001b[0;34m\u001b[0m\u001b[0;34m\u001b[0m\u001b[0m\n\u001b[1;32m     21\u001b[0m         \u001b[0maxs\u001b[0m\u001b[0;34m[\u001b[0m\u001b[0mi\u001b[0m\u001b[0;34m]\u001b[0m\u001b[0;34m.\u001b[0m\u001b[0mlegend\u001b[0m\u001b[0;34m(\u001b[0m\u001b[0;34m[\u001b[0m\u001b[0;34m'training'\u001b[0m\u001b[0;34m,\u001b[0m \u001b[0;34m'validation'\u001b[0m\u001b[0;34m]\u001b[0m\u001b[0;34m,\u001b[0m \u001b[0mloc\u001b[0m\u001b[0;34m=\u001b[0m\u001b[0;34m'best'\u001b[0m\u001b[0;34m)\u001b[0m\u001b[0;34m\u001b[0m\u001b[0;34m\u001b[0m\u001b[0m\n",
            "\u001b[0;31mKeyError\u001b[0m: <keras.metrics.RootMeanSquaredError object at 0x7f61d9ba2210>"
          ]
        },
        {
          "output_type": "display_data",
          "data": {
            "image/png": "[encoded data removed]",
            "text/plain": [
              "<Figure size 1440x360 with 2 Axes>"
            ]
          },
          "metadata": {
            "needs_background": "light"
          }
        }
      ],
      "source": [
        "\n",
        "\n",
        "def train_and_evaluate(model, train_x, train_y, val_x, val_y, preprocess={}, epochs=20, augment={}):\n",
        "\n",
        "    train_gen = preprocessing.image.ImageDataGenerator(**preprocess, **augment)\n",
        "    train_gen.fit(train_x) \n",
        "\n",
        "    val_gen = preprocessing.image.ImageDataGenerator(**preprocess)\n",
        "    val_gen.fit(train_x)\n",
        "    \n",
        "    history = model.fit(train_gen.flow(train_x, train_y), epochs=epochs, \n",
        "                        validation_data=val_gen.flow(val_x, val_y))\n",
        "\n",
        "    fig, axs = plt.subplots(1,2,figsize=(20,5)) \n",
        "\n",
        "    for i, metric in enumerate(['loss', tf.keras.metrics.RootMeanSquaredError()]):\n",
        "        axs[i].plot(history.history[metric])\n",
        "        axs[i].plot(history.history['val_'+metric])\n",
        "        axs[i].legend(['training', 'validation'], loc='best')\n",
        "\n",
        "        axs[i].set_title('Model '+metric)\n",
        "        axs[i].set_ylabel(metric)\n",
        "        axs[i].set_xlabel('epoch')\n",
        "\n",
        "    plt.show()\n",
        "    \n",
        "    print(f\"Validation Accuracy: {model.evaluate(val_gen.flow(val_x, val_y))[1]}\")\n",
        "    \n",
        "train_and_evaluate(image_NN, train_imgs_array, y_train, test_imgs_array, y_test,\n",
        "                  preprocess = {'featurewise_center': True, 'featurewise_std_normalization': True})\n"
      ]
    },
    {
      "cell_type": "code",
      "source": [
        ""
      ],
      "metadata": {
        "id": "L0ut0Itet0wg"
      },
      "id": "L0ut0Itet0wg",
      "execution_count": null,
      "outputs": []
    },
    {
      "cell_type": "code",
      "execution_count": null,
      "id": "1441c455",
      "metadata": {
        "id": "1441c455"
      },
      "outputs": [],
      "source": [
        ""
      ]
    }
  ],
  "metadata": {
    "kernelspec": {
      "display_name": "Python 3 (ipykernel)",
      "language": "python",
      "name": "python3"
    },
    "language_info": {
      "codemirror_mode": {
        "name": "ipython",
        "version": 3
      },
      "file_extension": ".py",
      "mimetype": "text/x-python",
      "name": "python",
      "nbconvert_exporter": "python",
      "pygments_lexer": "ipython3",
      "version": "3.7.11"
    },
    "colab": {
      "name": "Import_data.ipynb",
      "provenance": [],
      "collapsed_sections": []
    },
    "accelerator": "GPU"
  },
  "nbformat": 4,
  "nbformat_minor": 5
}